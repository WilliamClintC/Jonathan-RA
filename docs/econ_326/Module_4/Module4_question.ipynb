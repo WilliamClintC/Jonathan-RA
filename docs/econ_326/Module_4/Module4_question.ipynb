{
 "cells": [
  {
   "cell_type": "markdown",
   "metadata": {
    "pycharm": {
     "name": "#%% md\n"
    },
    "tags": []
   },
   "source": [
    "# ECON 326: Issues in Regression using R\n",
    "\n",
    "* **Authors**: COMET Team (Emrul Hasan, Jonah Heyl, Shiming Wu)\n",
    "* **Last update**: 16 August 2022\n",
    "___\n",
    "## Outline\n",
    "\n",
    "### Prerequisites\n",
    "\n",
    "* Multiple regression\n",
    "* Simple regression\n",
    "* Data analysis and introduction\n",
    "\n",
    "### Outcomes\n",
    "\n",
    "* Understand the origin and meaning of multicollinearity in regression models\n",
    "* Perform simple tests for multicollinerarity using VIF\n",
    "* Be able to demonstrate common methods to fix or resolve collinear data\n",
    "* Understand the origin and meaning of heteroskedasticity in regression models\n",
    "* Perform a variety of tests for heteroskedasticity\n",
    "* Compute robust standard errors for regression models\n",
    "* Understand other techniques for resolving heteroskedasticity in regression models\n",
    "\n",
    "### Notes\n",
    "\n",
    "Note that the data in this exercise is provided under the Statistics Canada Open License:\n",
    "> <span id=\"fn1\">[<sup>1</sup>](#fn1s)Statistics Canada, Survey of Financial Security, 2019, 2021. Reproduced and distributed on an \"as is\" basis with the permission of Statistics Canada.Adapted from Statistics Canada, Survey of Financial Security, 2019, 2021. This does not constitute an endorsement by Statistics Canada of this product.</span>\n",
    "\n",
    "> <span id=\"fn2\">[<sup>2</sup>](#fn2s)Stargazer package is due to: Hlavac, Marek (2018). stargazer: Well-Formatted Regression and Summary Statistics Tables.\n",
    " R package version 5.2.2. https://CRAN.R-project.org/package=stargazer </span>"
   ]
  },
  {
   "cell_type": "code",
   "execution_count": 34,
   "metadata": {
    "collapsed": false,
    "jupyter": {
     "outputs_hidden": false
    },
    "pycharm": {
     "name": "#%%\n"
    },
    "vscode": {
     "languageId": "r"
    }
   },
   "outputs": [
    {
     "name": "stderr",
     "output_type": "stream",
     "text": [
      "Warning message:\n",
      "“package ‘lmtest’ was built under R version 4.1.2”\n",
      "Loading required package: zoo\n",
      "\n",
      "Warning message:\n",
      "“package ‘zoo’ was built under R version 4.1.3”\n",
      "\n",
      "Attaching package: ‘zoo’\n",
      "\n",
      "\n",
      "The following objects are masked from ‘package:base’:\n",
      "\n",
      "    as.Date, as.Date.numeric\n",
      "\n",
      "\n",
      "Warning message:\n",
      "“package ‘stargazer’ was built under R version 4.1.2”\n",
      "\n",
      "Please cite as: \n",
      "\n",
      "\n",
      " Hlavac, Marek (2022). stargazer: Well-Formatted Regression and Summary Statistics Tables.\n",
      "\n",
      " R package version 5.2.3. https://CRAN.R-project.org/package=stargazer \n",
      "\n",
      "\n",
      "Warning message:\n",
      "“package ‘testthat’ was built under R version 4.1.3”\n",
      "\n",
      "Attaching package: ‘testthat’\n",
      "\n",
      "\n",
      "The following object is masked from ‘package:dplyr’:\n",
      "\n",
      "    matches\n",
      "\n",
      "\n",
      "The following object is masked from ‘package:purrr’:\n",
      "\n",
      "    is_null\n",
      "\n",
      "\n",
      "The following objects are masked from ‘package:readr’:\n",
      "\n",
      "    edition_get, local_edition\n",
      "\n",
      "\n",
      "The following object is masked from ‘package:tidyr’:\n",
      "\n",
      "    matches\n",
      "\n",
      "\n"
     ]
    }
   ],
   "source": [
    "#load the data and set it up\n",
    "\n",
    "library(tidyverse)\n",
    "library(haven)\n",
    "#library(sandwich)\n",
    "library(lmtest)\n",
    "\n",
    "#install.packages(\"stargazer\")  #un-comment this and run this line if you don't have stargazer installed\n",
    "library(stargazer)\n",
    "\n",
    "source(\"hands_on_tests_4.r\")\n",
    "#source(\"sandwich.r\")"
   ]
  },
  {
   "cell_type": "code",
   "execution_count": 32,
   "metadata": {
    "collapsed": false,
    "jupyter": {
     "outputs_hidden": false
    },
    "pycharm": {
     "name": "#%%\n"
    },
    "vscode": {
     "languageId": "r"
    }
   },
   "outputs": [],
   "source": [
    "#this code block is broken up and explained in module 1\n",
    "\n",
    "SFS_data <- read_dta(\"../datasets/SFS_2019_Eng.dta\")\n",
    "SFS_data <- rename(SFS_data,age= pagemieg)\n",
    "SFS_data <- filter(SFS_data, !is.na(SFS_data$pefmtinc))  \n",
    "SFS_data <- rename(SFS_data, income_before_tax = pefmtinc) \n",
    "SFS_data <- rename(SFS_data, income_after_tax = pefatinc)\n",
    "SFS_data <- rename(SFS_data, wealth = pwnetwpg)\n",
    "SFS_data <- rename(SFS_data, gender = pgdrmie)\n",
    "SFS_data <- rename(SFS_data, education = peducmie)\n",
    "SFS_data<-SFS_data[!(SFS_data$education==\"9\"),]\n",
    "SFS_data$education <- as.numeric(SFS_data$education)\n",
    "SFS_data <- SFS_data[order(SFS_data$education),]\n",
    "SFS_data$education <- as.character(SFS_data$education)\n",
    "SFS_data$education[SFS_data$education == \"1\"] <- \"Less than high school\" \n",
    "SFS_data$education[SFS_data$education == \"2\"] <- \"High school\"\n",
    "SFS_data$education[SFS_data$education == \"3\"] <- \"Non-university post-secondary\"\n",
    "SFS_data$education[SFS_data$education == \"4\"] <- \"University\"\n",
    "SFS_data$gender <- as_factor(SFS_data$gender) \n",
    "SFS_data$education <- as_factor(SFS_data$education)"
   ]
  },
  {
   "cell_type": "code",
   "execution_count": 6,
   "metadata": {
    "collapsed": false,
    "jupyter": {
     "outputs_hidden": false
    },
    "pycharm": {
     "name": "#%%\n"
    },
    "vscode": {
     "languageId": "r"
    }
   },
   "outputs": [
    {
     "name": "stderr",
     "output_type": "stream",
     "text": [
      "Warning message in .fn(vec_data(.x), ...):\n",
      "“NaNs produced”\n"
     ]
    },
    {
     "name": "stdout",
     "output_type": "stream",
     "text": [
      "Rows: 10,141\n",
      "Columns: 101\n",
      "$ pefamid              \u001b[3m\u001b[90m<chr>\u001b[39m\u001b[23m \"00014\", \"00017\", \"00025\", \"00032\", \"00034\", \"000…\n",
      "$ pweight              \u001b[3m\u001b[90m<dbl>\u001b[39m\u001b[23m 634.8358, 671.6546, 1367.6644, 2824.0936, 1106.10…\n",
      "$ age                  \u001b[3m\u001b[90m<chr>\u001b[39m\u001b[23m \"08\", \"12\", \"04\", \"10\", \"14\", \"14\", \"14\", \"13\", \"…\n",
      "$ PAS1MRAG             \u001b[3m\u001b[90m<dbl+lbl>\u001b[39m\u001b[23m NA, NA, NA, NA, NA, NA, NA, NA, NA, NA, NA, N…\n",
      "$ PAS1MRG1             \u001b[3m\u001b[90m<dbl+lbl>\u001b[39m\u001b[23m NA, NA, NA, NA, NA, NA, NA, NA, NA, NA, NA, N…\n",
      "$ PAS1MRG2             \u001b[3m\u001b[90m<dbl+lbl>\u001b[39m\u001b[23m NA, NA, NA, NA, NA, NA, NA, NA, NA, NA, NA, N…\n",
      "$ PASR1MFA             \u001b[3m\u001b[90m<dbl+lbl>\u001b[39m\u001b[23m NA, NA, NA, NA, NA, NA, NA, NA, NA, NA, NA, N…\n",
      "$ PASR1MR              \u001b[3m\u001b[90m<dbl+lbl>\u001b[39m\u001b[23m NA, NA, NA,  2, NA, NA, NA, NA, NA, NA,  2, N…\n",
      "$ pasrbuyg             \u001b[3m\u001b[90m<dbl+lbl>\u001b[39m\u001b[23m  6, NA, NA,  5,  2,  5,  5, NA, NA, NA,  3,  …\n",
      "$ pasrcnmg             \u001b[3m\u001b[90m<dbl+lbl>\u001b[39m\u001b[23m NA, NA, NA, NA, NA, NA, NA, NA, NA, NA, NA, N…\n",
      "$ pasrcon              \u001b[3m\u001b[90m<dbl+lbl>\u001b[39m\u001b[23m 2, 2, 2, 2, 2, 2, 2, 2, 2, 2, 2, 2, 2, 2, 2, …\n",
      "$ pasrcst              \u001b[3m\u001b[90m<dbl+lbl>\u001b[39m\u001b[23m     NA,     NA,     NA, 135000,  14500, 13500…\n",
      "$ pasrcurg             \u001b[3m\u001b[90m<dbl+lbl>\u001b[39m\u001b[23m NA, NA, NA,  6, NA, NA, NA, NA, NA, NA,  2, N…\n",
      "$ PASRDPO1             \u001b[3m\u001b[90m<dbl+lbl>\u001b[39m\u001b[23m NA, NA, NA,  2,  1,  2, NA, NA, NA, NA,  1,  …\n",
      "$ PASRDPO2             \u001b[3m\u001b[90m<dbl+lbl>\u001b[39m\u001b[23m NA, NA, NA,  1,  2,  1, NA, NA, NA, NA,  2,  …\n",
      "$ PASRDPO3             \u001b[3m\u001b[90m<dbl+lbl>\u001b[39m\u001b[23m NA, NA, NA,  2,  2,  1, NA, NA, NA, NA,  2,  …\n",
      "$ PASRDPO4             \u001b[3m\u001b[90m<dbl+lbl>\u001b[39m\u001b[23m NA, NA, NA,  2,  2,  2, NA, NA, NA, NA,  2,  …\n",
      "$ PASRDPO5             \u001b[3m\u001b[90m<dbl+lbl>\u001b[39m\u001b[23m NA, NA, NA,  2,  2,  2, NA, NA, NA, NA,  2,  …\n",
      "$ pasrdwng             \u001b[3m\u001b[90m<dbl+lbl>\u001b[39m\u001b[23m NA, NA, NA,  2,  2,  9, NA, NA, NA, NA,  2,  …\n",
      "$ pasrfnmg             \u001b[3m\u001b[90m<dbl+lbl>\u001b[39m\u001b[23m NA, NA, NA, NA, NA, NA, NA, NA, NA, NA, NA, N…\n",
      "$ pasrint              \u001b[3m\u001b[90m<dbl+lbl>\u001b[39m\u001b[23m NA, NA, NA,  1, NA, NA, NA, NA, NA, NA,  1, N…\n",
      "$ pasrintg             \u001b[3m\u001b[90m<chr>\u001b[39m\u001b[23m \"96\", \"96\", \"96\", \"06\", \"96\", \"96\", \"96\", \"96\", \"…\n",
      "$ pasrmoag             \u001b[3m\u001b[90m<dbl+lbl>\u001b[39m\u001b[23m NA, NA, NA,  1, NA, NA, NA, NA, NA, NA,  3, N…\n",
      "$ pasrmpfg             \u001b[3m\u001b[90m<dbl+lbl>\u001b[39m\u001b[23m NA, NA, NA,  3, NA, NA, NA, NA, NA, NA,  5, N…\n",
      "$ pasrmryg             \u001b[3m\u001b[90m<dbl+lbl>\u001b[39m\u001b[23m   NA,   NA,   NA, 2022,   NA,   NA,   NA,   N…\n",
      "$ pasrrntg             \u001b[3m\u001b[90m<dbl+lbl>\u001b[39m\u001b[23m  2, NA, NA,  2,  2,  2,  2, NA, NA, NA,  2,  …\n",
      "$ pasrskp              \u001b[3m\u001b[90m<dbl+lbl>\u001b[39m\u001b[23m NA, NA, NA,  2, NA, NA, NA, NA, NA, NA,  1, N…\n",
      "$ pattcrc              \u001b[3m\u001b[90m<dbl+lbl>\u001b[39m\u001b[23m 2, 2, 2, 1, 1, 1, 2, 1, 1, 2, 1, 1, 1, 1, 1, …\n",
      "$ pattcrlm             \u001b[3m\u001b[90m<dbl+lbl>\u001b[39m\u001b[23m    NA,    NA,    NA, 10000, 15500, 17000,    …\n",
      "$ pattcrr              \u001b[3m\u001b[90m<dbl+lbl>\u001b[39m\u001b[23m  2,  1,  1, NA, NA, NA,  2, NA, NA,  2, NA, N…\n",
      "$ pattcru              \u001b[3m\u001b[90m<dbl+lbl>\u001b[39m\u001b[23m NA, NA, NA,  4,  4,  4, NA,  4,  3, NA,  4,  …\n",
      "$ pattdif              \u001b[3m\u001b[90m<dbl+lbl>\u001b[39m\u001b[23m NA, NA,  1, NA, NA, NA, NA, NA, NA, NA, NA, N…\n",
      "$ pattlcp              \u001b[3m\u001b[90m<dbl+lbl>\u001b[39m\u001b[23m NA, NA, NA,  3, NA,  3, NA,  3, NA, NA,  5,  …\n",
      "$ pattlcr              \u001b[3m\u001b[90m<dbl+lbl>\u001b[39m\u001b[23m 2, 2, 2, 1, 2, 1, 2, 1, 2, 2, 1, 1, 2, 1, 1, …\n",
      "$ pattpayd             \u001b[3m\u001b[90m<dbl+lbl>\u001b[39m\u001b[23m 2, 2, 2, 2, 2, 2, 2, 2, 2, 2, 2, 2, 2, 2, 2, …\n",
      "$ pattrsa              \u001b[3m\u001b[90m<dbl+lbl>\u001b[39m\u001b[23m  2, NA, NA,  1,  1, NA, NA,  1, NA, NA,  2,  …\n",
      "$ pattrsh              \u001b[3m\u001b[90m<dbl+lbl>\u001b[39m\u001b[23m  2, NA, NA,  2,  2, NA, NA,  2, NA, NA,  2,  …\n",
      "$ pattrsl              \u001b[3m\u001b[90m<dbl+lbl>\u001b[39m\u001b[23m  2, NA, NA,  2,  2, NA, NA,  2, NA, NA,  2,  …\n",
      "$ pattrsp              \u001b[3m\u001b[90m<dbl+lbl>\u001b[39m\u001b[23m 1, 2, 2, 1, 1, 2, 2, 1, 2, 2, 1, 1, 1, 1, 1, …\n",
      "$ pattrsr              \u001b[3m\u001b[90m<dbl+lbl>\u001b[39m\u001b[23m  2, NA, NA,  2,  2, NA, NA,  2, NA, NA,  1,  …\n",
      "$ pattstin             \u001b[3m\u001b[90m<dbl+lbl>\u001b[39m\u001b[23m 1, 3, 1, 3, 3, 3, 3, 3, 2, 3, 3, 1, 3, 1, 1, …\n",
      "$ pattskp              \u001b[3m\u001b[90m<dbl+lbl>\u001b[39m\u001b[23m 2, 2, 1, 2, 2, 2, 2, 2, 2, 2, 2, 2, 2, 2, 2, …\n",
      "$ pattlmlc             \u001b[3m\u001b[90m<dbl+lbl>\u001b[39m\u001b[23m     NA,     NA,     NA,   4300,     NA,  9500…\n",
      "$ pbusind              \u001b[3m\u001b[90m<dbl+lbl>\u001b[39m\u001b[23m 2, 2, 2, 2, 2, 2, 2, 2, 2, 2, 2, 2, 1, 1, 1, …\n",
      "$ pdwtyp               \u001b[3m\u001b[90m<chr>\u001b[39m\u001b[23m \"3\", \"1\", \"3\", \"1\", \"1\", \"1\", \"1\", \"1\", \"1\", \"3\",…\n",
      "$ education            \u001b[3m\u001b[90m<fct>\u001b[39m\u001b[23m Less than high school, Less than high school, Les…\n",
      "$ income_after_tax     \u001b[3m\u001b[90m<dbl+lbl>\u001b[39m\u001b[23m  39150,  18850,  25825,  67900,  37175,  4070…\n",
      "$ pefgtr               \u001b[3m\u001b[90m<dbl+lbl>\u001b[39m\u001b[23m  5000, 18500, 20000, 10500, 18500, 30000, 210…\n",
      "$ pefmjsif             \u001b[3m\u001b[90m<chr>\u001b[39m\u001b[23m \"02\", \"04\", \"04\", \"02\", \"06\", \"04\", \"04\", \"04\", \"…\n",
      "$ income_before_tax    \u001b[3m\u001b[90m<dbl+lbl>\u001b[39m\u001b[23m  38000,    350,   6250,  67500,  23000,  1100…\n",
      "$ PEXMG1A              \u001b[3m\u001b[90m<dbl+lbl>\u001b[39m\u001b[23m   NA,   NA,   NA,  500,   NA,   NA,   NA,   N…\n",
      "$ PEXMG1F              \u001b[3m\u001b[90m<dbl+lbl>\u001b[39m\u001b[23m NA, NA, NA,  1, NA, NA, NA, NA, NA, NA,  1, N…\n",
      "$ pfcrn                \u001b[3m\u001b[90m<chr>\u001b[39m\u001b[23m \"4\", \"4\", \"4\", \"1\", \"2\", \"1\", \"4\", \"2\", \"2\", \"4\",…\n",
      "$ pfmtypg              \u001b[3m\u001b[90m<chr>\u001b[39m\u001b[23m \"2\", \"2\", \"3\", \"2\", \"1\", \"4\", \"1\", \"1\", \"2\", \"1\",…\n",
      "$ pfrspst              \u001b[3m\u001b[90m<chr>\u001b[39m\u001b[23m \"1\", \"3\", \"3\", \"2\", \"2\", \"3\", \"3\", \"2\", \"3\", \"3\",…\n",
      "$ pfsz                 \u001b[3m\u001b[90m<dbl+lbl>\u001b[39m\u001b[23m 2, 2, 2, 2, 1, 2, 1, 1, 2, 1, 1, 2, 2, 2, 2, …\n",
      "$ PFSZ0017             \u001b[3m\u001b[90m<chr>\u001b[39m\u001b[23m \"2\", \"2\", \"1\", \"2\", \"2\", \"2\", \"2\", \"2\", \"2\", \"2\",…\n",
      "$ PFSZ1824             \u001b[3m\u001b[90m<chr>\u001b[39m\u001b[23m \"2\", \"2\", \"2\", \"2\", \"2\", \"2\", \"2\", \"2\", \"2\", \"2\",…\n",
      "$ PFSZ2544             \u001b[3m\u001b[90m<chr>\u001b[39m\u001b[23m \"2\", \"2\", \"1\", \"2\", \"2\", \"2\", \"2\", \"2\", \"2\", \"2\",…\n",
      "$ PFSZ4564             \u001b[3m\u001b[90m<chr>\u001b[39m\u001b[23m \"1\", \"2\", \"2\", \"1\", \"2\", \"1\", \"2\", \"2\", \"1\", \"2\",…\n",
      "$ PFSZ65UP             \u001b[3m\u001b[90m<chr>\u001b[39m\u001b[23m \"2\", \"1\", \"2\", \"2\", \"1\", \"1\", \"1\", \"1\", \"2\", \"1\",…\n",
      "$ pftenur              \u001b[3m\u001b[90m<dbl+lbl>\u001b[39m\u001b[23m 1, 3, 3, 2, 1, 1, 1, 3, 3, 3, 2, 1, 1, 1, 1, …\n",
      "$ pinhert              \u001b[3m\u001b[90m<dbl+lbl>\u001b[39m\u001b[23m    700,     NA,  10500,  22000,     NA,     N…\n",
      "$ plfchrme             \u001b[3m\u001b[90m<chr>\u001b[39m\u001b[23m \"1\", \"6\", \"6\", \"6\", \"6\", \"6\", \"6\", \"6\", \"2\", \"6\",…\n",
      "$ plffptme             \u001b[3m\u001b[90m<chr>\u001b[39m\u001b[23m \"1\", \"6\", \"3\", \"3\", \"3\", \"3\", \"6\", \"3\", \"2\", \"6\",…\n",
      "$ plfpdmeg             \u001b[3m\u001b[90m<chr>\u001b[39m\u001b[23m \"1\", \"6\", \"6\", \"6\", \"6\", \"6\", \"6\", \"6\", \"1\", \"6\",…\n",
      "$ pnbearg              \u001b[3m\u001b[90m<dbl+lbl>\u001b[39m\u001b[23m  2,  0,  1,  2,  0,  1,  0,  0,  2,  0,  0,  …\n",
      "$ ppvres               \u001b[3m\u001b[90m<chr>\u001b[39m\u001b[23m \"12\", \"48\", \"24\", \"35\", \"48\", \"35\", \"24\", \"24\", \"…\n",
      "$ pregion              \u001b[3m\u001b[90m<chr>\u001b[39m\u001b[23m \"1\", \"4\", \"2\", \"3\", \"4\", \"3\", \"2\", \"2\", \"1\", \"2\",…\n",
      "$ pretirme             \u001b[3m\u001b[90m<chr>\u001b[39m\u001b[23m \"2\", \"6\", \"6\", \"1\", \"1\", \"1\", \"6\", \"1\", \"2\", \"6\",…\n",
      "$ gender               \u001b[3m\u001b[90m<fct>\u001b[39m\u001b[23m Male, Female, Male, Male, Male, Female, Female, M…\n",
      "$ pwaotpen             \u001b[3m\u001b[90m<dbl>\u001b[39m\u001b[23m 0, 0, 0, 0, 325, 0, 0, 0, 0, 0, 0, 0, 0, 0, 0, 0,…\n",
      "$ pwaprval             \u001b[3m\u001b[90m<dbl>\u001b[39m\u001b[23m 16500, 0, 0, 300000, 200000, 350000, 72500, 0, 0,…\n",
      "$ pwarppg              \u001b[3m\u001b[90m<dbl>\u001b[39m\u001b[23m 0, 60000, 0, 90000, 120000, 370000, 0, 0, 0, 0, 0…\n",
      "$ pwarppt              \u001b[3m\u001b[90m<dbl>\u001b[39m\u001b[23m 0, 57500, 0, 90000, 125000, 380000, 0, 0, 0, 0, 0…\n",
      "$ pwarrif              \u001b[3m\u001b[90m<dbl>\u001b[39m\u001b[23m 0, 0, 0, 87500, 77500, 9500, 0, 95000, 0, 0, 0, 0…\n",
      "$ pwarrspl             \u001b[3m\u001b[90m<dbl>\u001b[39m\u001b[23m 525, 0, 0, 200000, 0, 0, 0, 0, 0, 0, 0, 70000, 0,…\n",
      "$ pwastbnd             \u001b[3m\u001b[90m<dbl>\u001b[39m\u001b[23m 0, 0, 0, 0, 0, 0, 0, 0, 0, 0, 0, 0, 0, 0, 0, 0, 0…\n",
      "$ pwastdep             \u001b[3m\u001b[90m<dbl>\u001b[39m\u001b[23m 225, 10000, 5, 2300, 5250, 70, 0, 18000, 250, 5, …\n",
      "$ pwastmui             \u001b[3m\u001b[90m<dbl>\u001b[39m\u001b[23m 0, 0, 0, 0, 0, 0, 0, 0, 0, 0, 0, 0, 0, 0, 0, 0, 0…\n",
      "$ pwastoin             \u001b[3m\u001b[90m<dbl>\u001b[39m\u001b[23m 0, 0, 0, 0, 0, 2800, 0, 0, 0, 0, 0, 0, 0, 0, 0, 4…\n",
      "$ pwastonf             \u001b[3m\u001b[90m<dbl>\u001b[39m\u001b[23m 1050, 1050, 5000, 5250, 5250, 5000, 1000, 1050, 9…\n",
      "$ pwastrst             \u001b[3m\u001b[90m<dbl>\u001b[39m\u001b[23m 0, 0, 0, 0, 0, 0, 0, 0, 0, 0, 0, 0, 41000, 0, 0, …\n",
      "$ pwaststk             \u001b[3m\u001b[90m<dbl>\u001b[39m\u001b[23m 0, 0, 0, 0, 0, 0, 0, 0, 0, 0, 10000, 0, 0, 0, 0, …\n",
      "$ pwastvhe             \u001b[3m\u001b[90m<dbl>\u001b[39m\u001b[23m 2400, 0, 0, 37000, 0, 27000, 0, 31000, 4750, 300,…\n",
      "$ pwatfs               \u001b[3m\u001b[90m<dbl>\u001b[39m\u001b[23m 0, 0, 0, 1750, 0, 8750, 0, 19000, 0, 0, 6250, 155…\n",
      "$ pwatotpg             \u001b[3m\u001b[90m<dbl>\u001b[39m\u001b[23m 20700, 71050, 5005, 723800, 408325, 773120, 73500…\n",
      "$ pwatotpt             \u001b[3m\u001b[90m<dbl>\u001b[39m\u001b[23m 20700, 68550, 5005, 723800, 413325, 783120, 73500…\n",
      "$ pwbuseq              \u001b[3m\u001b[90m<dbl>\u001b[39m\u001b[23m 0, 0, 0, 0, 0, 0, 0, 0, 0, 0, 0, 0, 95000, 750000…\n",
      "$ pwdprmor             \u001b[3m\u001b[90m<dbl>\u001b[39m\u001b[23m 0, 0, 0, 55000, 0, 0, 0, 0, 0, 0, 20000, 0, 0, 0,…\n",
      "$ pwdsloan             \u001b[3m\u001b[90m<dbl>\u001b[39m\u001b[23m 0, 0, 0, 0, 0, 0, 0, 0, 0, 0, 0, 0, 0, 0, 0, 0, 0…\n",
      "$ pwdstcrd             \u001b[3m\u001b[90m<dbl>\u001b[39m\u001b[23m 0, 0, 0, 0, 0, 5250, 0, 0, 3600, 0, 0, 0, 2000, 0…\n",
      "$ pwdstloc             \u001b[3m\u001b[90m<dbl>\u001b[39m\u001b[23m 0, 0, 0, 0, 0, 40000, 0, 6000, 0, 0, 0, 0, 0, 0, …\n",
      "$ pwdstodb             \u001b[3m\u001b[90m<dbl>\u001b[39m\u001b[23m 400, 0, 0, 0, 0, 0, 0, 0, 0, 0, 0, 0, 0, 0, 0, 0,…\n",
      "$ pwdstomr             \u001b[3m\u001b[90m<dbl>\u001b[39m\u001b[23m 0, 0, 0, 0, 0, 0, 0, 0, 0, 0, 0, 0, 0, 0, 0, 0, 0…\n",
      "$ pwdstvhn             \u001b[3m\u001b[90m<dbl>\u001b[39m\u001b[23m 0, 0, 0, 35000, 0, 20000, 0, 20000, 0, 0, 0, 2300…\n",
      "$ pwdtotal             \u001b[3m\u001b[90m<dbl>\u001b[39m\u001b[23m 400, 0, 0, 90000, 0, 65250, 0, 26000, 3600, 0, 20…\n",
      "$ wealth               \u001b[3m\u001b[90m<dbl>\u001b[39m\u001b[23m 20300, 71050, 5005, 633800, 408325, 707870, 73500…\n",
      "$ pwnetwpt             \u001b[3m\u001b[90m<dbl>\u001b[39m\u001b[23m 20300, 68550, 5005, 633800, 413325, 717870, 73500…\n",
      "$ verdate              \u001b[3m\u001b[90m<chr>\u001b[39m\u001b[23m \"28/06/2021\", \"28/06/2021\", \"28/06/2021\", \"28/06/…\n",
      "$ ln_income_before_tax \u001b[3m\u001b[90m<dbl>\u001b[39m\u001b[23m 10.545341, 5.857933, 8.740337, 11.119883, 10.0432…\n"
     ]
    }
   ],
   "source": [
    "SFS_data <- SFS_data %>% #some data cleaning\n",
    "               mutate(ln_income_before_tax = log(income_before_tax))\n",
    "SFS_data <- filter(SFS_data, !is.na(SFS_data$income_before_tax))\n",
    "SFS_data <- filter(SFS_data, !is.na(SFS_data$income_after_tax))\n",
    "glimpse(SFS_data)"
   ]
  },
  {
   "cell_type": "markdown",
   "metadata": {
    "pycharm": {
     "name": "#%% md\n"
    }
   },
   "source": [
    "In this notebook, we will explore several important issues in multiple regression models, and explore how to identify, evaluate, and correct them where appropriate.  It is important to remember that there can be many other issues that arise in specific regression models; as you learn more about econometrics and create your own research questions, different issues will arise.  Consider these as \"examples\" for some of the most common issues that arise in regression models.\n",
    "\n",
    "## Part 1: Multicollinearity\n",
    "\n",
    "Multi-collinearity is a surprisingly common issue in applied regression analysis, where several explanatory variables are correlated to each other. For example, suppose we are interested at regressing one's marriage rate against years of education and annual income. In this case, the two explanatory variables income and years of education are highly correlated. It refers to the situation where a variable is \"overdetermined\" by the other variables in a model, which will result in less reliable regression output. For example, if we have a high coefficient on education. How certain are we that this coefficient was not the result of having a high annual income as well? Let's look at this problem mathematically; in calculating an OLS estimation, you are estimating a relationship like:\n",
    "\n",
    "$$Y_i = \\beta_a + \\beta_1 X_1 + \\epsilon_i$$\n",
    "\n",
    "You find the estimates of the coefficients in this model using OLS; i.e. solving an equation like:\n",
    "\n",
    "$$ \\min_{b_0, b_1} \\sum_{i=1}^n(Y_i - b_0 -b_1 X_i)^2 $$\n",
    "\n",
    "Under the OLS regression assumptions, this has a unique solution; i.e you can find unique values for $b_0$ and $b_1$.  \n",
    "\n",
    "However, what if you wrote an equation like this:\n",
    " $$\\beta a=\\beta_0+\\beta_1 $$\n",
    " We can then rewrite  as $$Y_i = \\beta_0 + \\beta_1 + \\beta_2 X_i + \\epsilon_i$$\n",
    "\n",
    "\n",
    "This _seems_ like it would be fine, but remember what you are doing: trying to find a _line_ of best fit.  The problem is that this equation does not define a unique line; the \"intercept\" is $\\beta_0 + \\beta_1$.  There are two \"parameters\" ($\\beta_0, \\beta_1$) for a single \"characteristics\" (the intercept).  This means that the resulting OLS problem:\n",
    "\n",
    "$$ \\min_{b_0, b_1, b_2} \\sum_{i=1}^n(Y_i - b_0 -b_1 -b_2 X_i)^2 $$\n",
    "\n",
    "Does not have a unique solution.  In algebraic terms, it means you can find many representations of a line with two intercept parameters.  This is referred to in econometrics as a lack of **identification**; multicollinearity is one way that identification can fail in regression models.\n",
    "\n",
    "You can see this in the following example, which fits an OLS estimate of ``wealth`` and ``income_before_tax`` then compares the fit to a regression with two intercepts.  Try changing the values to see what happens."
   ]
  },
  {
   "cell_type": "markdown",
   "metadata": {
    "pycharm": {
     "name": "#%% md\n"
    }
   },
   "source": [
    "> **Note**: Make sure to understand what the example below is doing. Notice how the results are exactly the same, no matter what the value of ``k`` is?"
   ]
  },
  {
   "cell_type": "code",
   "execution_count": 15,
   "metadata": {
    "collapsed": false,
    "jupyter": {
     "outputs_hidden": false
    },
    "pycharm": {
     "name": "#%%\n"
    },
    "vscode": {
     "languageId": "r"
    }
   },
   "outputs": [
    {
     "name": "stdout",
     "output_type": "stream",
     "text": [
      "[1] \"1st Sum of Residuals: -2.9595e-06\"\n",
      "[1] \"2nd Sum of Residuals: -2.9189e-06\"\n"
     ]
    }
   ],
   "source": [
    "reg <- lm(wealth ~ income_before_tax, data = SFS_data)\n",
    "\n",
    "\n",
    "\n",
    "b_0 <- reg$coef[[1]]\n",
    "b_1 <- reg$coef[[2]]\n",
    "\n",
    "resid <- SFS_data$wealth - b_0 - b_1*SFS_data$income_before_tax\n",
    "\n",
    "#print(paste(\"Regression Coefficients:\", round(b_0,2),\"and\",round(b_1,2)))\n",
    "print(paste(\"1st Sum of Residuals:\", round(sum(resid),10)))\n",
    "\n",
    "\n",
    "k <- 90 #change me! \n",
    "\n",
    "b_0 = (reg$coef[[1]])/2 - k\n",
    "b_1 = (reg$coef[[1]])/2 + k \n",
    "b_2 = reg$coef[[2]]\n",
    "\n",
    "resid <-SFS_data$wealth - b_0 - b_1 - b_2*SFS_data$income_before_tax\n",
    "\n",
    "\n",
    "print(paste(\"2nd Sum of Residuals:\", round(sum(resid),10)))\n"
   ]
  },
  {
   "cell_type": "markdown",
   "metadata": {},
   "source": [
    "The sum of residuals between on the 1st and 2nd regression should be different. After all, they are different regressions with different coefficients. "
   ]
  },
  {
   "cell_type": "markdown",
   "metadata": {
    "pycharm": {
     "name": "#%% md\n"
    }
   },
   "source": [
    "\n",
    "Okay, you're probably thinking, that makes sense - but just don't write down an equation like that.  After all, it seems somewhat artificial that we added an extra intercept term.\n",
    "\n",
    "However, multicollinearly can occur with _any_ set of variables in the model; not just the intercept.  For example, suppose you have a multiple regression:\n",
    "\n",
    "$$Y_ i = \\beta_0 + \\beta_1 X_{1,i} + \\beta_2  X_{2,i} + \\beta_3  X_{3,i} + \\epsilon_i$$\n",
    "\n",
    "What would happen if there was a relationship between $X_1, X_2$ and $X_3$ like:\n",
    "\n",
    "$$X_{1,i} = 0.4 X_{2,i} + 12 X_{3,i}$$  \n",
    "\n",
    "When, we could then re-write the equation as:\n",
    "\n",
    "$$Y_ i = \\beta_0 + \\beta_1 (0.4 X_{2,i} + 12 X_{3,i}) + \\beta_2  X_{2,i} + \\beta_3  X_{3,i} + \\epsilon_i$$\n",
    "\n",
    "$$\\implies Y_ i = \\beta_0 + (\\beta_2 + 0.4 \\beta_1)  X_{2,i} + (\\beta_3 + 12 \\beta_1)X_{3,i} + \\epsilon_i$$\n",
    "\n",
    "The same problem is now occuring, but with $X_2$ and $X_3$: the slope coefficients depend on a free parameter ($\\beta_1$).  You cannot uniquely find the equation of a line (c.f. plane) with this kind of equation. \n",
    "\n",
    "Basically what is happening, is you are trying to solve a system of equations for 3 variables (or n variables), but only 2 (or n-1) are used in the equation (are independent). So what would you do, well you would leave one of the dependent variables out, so you could solve for all of your variables, this is exactly what R does.\n",
    "\n",
    "You can also intuitively see the condition here: multicollinearity occurs when you can express one variable as a _linear_ combination of the other variables in the model.\n",
    "\n",
    "* This is sometimes referred to as **perfect multicollinearity**, since the variable is _perfectly_ expressed as a linear combination of the other variable.\n",
    "* The linearity is important because this is a linear model; you can have similar issues in other models, but it has a special name in linear regression\n",
    "\n",
    "### Perfectly Multicollinearity in Models\n",
    "\n",
    "In general, most statistical packages (like R) will automatically detect, warn, and remove perfectly multicollinear variables from a model; this is because the algorithm they use to solve problems like the OLS estimation equation detects the problem and avoids a \"crash\".  This is fine, from a mathematical perspective - since mathematically the two results are the same (in a well-defined sense, as we saw above).\n",
    "\n",
    "However, from an economic perspective this is very bad - it indicates that there was a problem with the _model_ that you defined in the first place.  Usually, this means one of three things:\n",
    "\n",
    "1. You included a set of variables which were, in combination, identical.  For example, including \"family size\" and then \"number of children\" and \"number of adults\" in a regression\n",
    "2. You did not understand the data well enough, and variables had less variation than you thought they did - conditional on the other variables in the model.  For example, maybe you thought people in the dataset could have both graduate and undergraduate degrees - so there was variation in \"higher than high-school\" but that wasn't true\n",
    "3. You wrote down a model which was poorly defined in terms of the variables.  For example, you including all levels of a dummy variable, or included the same variable measured in two different units (wages in dollars and wages in 1000s of dollars).\n",
    "\n",
    "In all of these cases, you need to go back to your original regression model and re-evaluate what you are trying to do in order to simplify the model or correct the error.  \n",
    "\n",
    "Consider the following regression model, in which we want to study whether or not there is a penalty for families led by someone who is younger is the SFS Data:"
   ]
  },
  {
   "cell_type": "code",
   "execution_count": 16,
   "metadata": {
    "collapsed": false,
    "jupyter": {
     "outputs_hidden": false
    },
    "pycharm": {
     "name": "#%%\n"
    },
    "vscode": {
     "languageId": "r"
    }
   },
   "outputs": [
    {
     "data": {
      "text/plain": [
       "\n",
       "Call:\n",
       "lm(formula = income_before_tax ~ ya + education, data = SFS_data)\n",
       "\n",
       "Residuals:\n",
       "    Min      1Q  Median      3Q     Max \n",
       "-183803  -57016  -21803   29984 3163197 \n",
       "\n",
       "Coefficients: (1 not defined because of singularities)\n",
       "                                       Estimate Std. Error t value Pr(>|t|)    \n",
       "(Intercept)                               38306       3464  11.058  < 2e-16 ***\n",
       "yaNo                                      98497       3976  24.770  < 2e-16 ***\n",
       "educationHigh school                      31710       4290   7.392 1.56e-13 ***\n",
       "educationNon-university post-secondary   -50440       2998 -16.823  < 2e-16 ***\n",
       "educationUniversity                          NA         NA      NA       NA    \n",
       "---\n",
       "Signif. codes:  0 ‘***’ 0.001 ‘**’ 0.01 ‘*’ 0.05 ‘.’ 0.1 ‘ ’ 1\n",
       "\n",
       "Residual standard error: 120800 on 10137 degrees of freedom\n",
       "Multiple R-squared:  0.07631,\tAdjusted R-squared:  0.07603 \n",
       "F-statistic: 279.1 on 3 and 10137 DF,  p-value: < 2.2e-16\n"
      ]
     },
     "metadata": {},
     "output_type": "display_data"
    }
   ],
   "source": [
    "SFS_data <- SFS_data %>%\n",
    "    mutate(ya = case_when(\n",
    "        education == \"Less than high school\"  ~ \"Yes\",\n",
    "        education == \"High school\" ~ \"Yes\",\n",
    "        education == \"Non-university post-secondary\" ~ \"No\", #this is for all other cases\n",
    "        TRUE ~ \"No\" #this is for all other cases\n",
    "    )) %>%\n",
    "    mutate(ya = as_factor(ya))\n",
    "\n",
    "regression2 <- lm(income_before_tax ~ ya +education , data = SFS_data)\n",
    "\n",
    "summary(regression2)"
   ]
  },
  {
   "cell_type": "markdown",
   "metadata": {
    "pycharm": {
     "name": "#%% md\n"
    }
   },
   "source": [
    "Can you see why the multi-collinearity is occurring here?  Try to write down an equation which points out what the problem is in this regression - why is it multi-collinear?  How could you fix this problem by changing the model?\n",
    "\n",
    "> _Think Deeper_: You will notice, above, that it excluded the \"University\" education.  Did it have to exclude that one?  Could it have excluded another one instead?  What do you think?\n",
    "\n",
    "### Imperfect Multicollinearity\n",
    "\n",
    "A related issue to perfect multicollinearity is \"near\" (or **imperfect**) multicollinearity.  If you recall from the above, perfect multicollinearity occurs when you have a relationship like:\n",
    "\n",
    "$$X_{1,i} = 0.4 X_{2,i} + 12 X_{3,i}$$  \n",
    "\n",
    "Notice that in this relationship it holds _for all_ values of $i$.  However, what if it held for _nearly_ all $i$ instead?  In that case, we would still have a solution to the equation... but there would be a problem.  Let's look at this in the simple regression case.  \n",
    "\n",
    "\n",
    "$$Y_i = \\beta_0 + \\beta_1 X_i + \\epsilon_i$$\n",
    "\n",
    "Now, let's suppose that $X_i$ is \"almost\" collinear with $\\beta_0$.  To be precise, suppose that $X_i = 15$ for $k$-% of the data ($k$ will be large) and $X_i = 20$ for $(1-k)$-% of the data.  This is _almost_ constant, and so it is _almost_ collinear with $\\beta_0$ (the constant).  Let's also make the values of $Y_i$ so that $Y_i(X_i) = X_i + \\epsilon_i$ (so $\\beta_1 = 1$), and we will set $\\sigma_Y = 1$\n",
    "\n",
    "This implies that (applying some of the formulas from class):\n",
    "\n",
    "$$\\beta_1 = \\frac{Cov(X_i,Y_i)}{Var(X_i)} = 1$$\n",
    "\n",
    "$$s_b = \\frac{1}{\\sqrt{n-2}}\\sqrt{\\frac{1}{r^2}-1}$$\n",
    "\n",
    "$$r = \\frac{\\sigma_X}{\\sigma_Y}$$\n",
    "\n",
    "As you can see, when $Var(X_i)$ goes down, $\\sigma_X$ falls, and the value of $r$ falls; intuitively, when $k$ rises, the variance will go to zero, which makes $r$ go to zero as well (since there's no variation).  You can then see that $s_b$ diverges to infinity.  \n",
    "\n",
    "We can make this more precise.  In this model, how does $Var(X_i)$ depend on $k$?  Well, first notice that $\\bar{X_i} = 15\\cdot k + 20 \\cdot (1-k)$.  Then,\n",
    "\n",
    "$$Var(X_i) = (X_i - \\bar{X_i})^2 = k (15 - \\bar{X_i})^2 + (1-k)(20 - \\bar{X_i})^2$$\n",
    "\n",
    "$$\\implies Var(X_i) = 25[k(1-k)^2 + (1-k)k^2]$$\n",
    "\n",
    "Okay, that looks awful - so let's plot a graph of $s_b$ versus $k$ (when $n = 1000$):"
   ]
  },
  {
   "cell_type": "code",
   "execution_count": 36,
   "metadata": {
    "collapsed": false,
    "jupyter": {
     "outputs_hidden": false
    },
    "pycharm": {
     "name": "#%%\n"
    },
    "vscode": {
     "languageId": "r"
    }
   },
   "outputs": [
    {
     "data": {
      "image/png": "[encoded data removed]",
      "text/plain": [
       "plot without title"
      ]
     },
     "metadata": {
      "image/png": {
       "height": 240,
       "width": 360
      }
     },
     "output_type": "display_data"
    }
   ],
   "source": [
    "options(repr.plot.width=6,repr.plot.height=4)\n",
    "\n",
    "r = 0.01 \n",
    "\n",
    "eq = function(k){(1/sqrt(1000-2))*(1/(25*(k*(1-k)^2 + (1-k)*k^2))-1)}\n",
    "s = seq(0.5, 1.00, by = r)\n",
    "n = length(s)\n",
    "\n",
    "plot(eq(s), type='l',  xlab=\"Values of K\", ylab=\"Standard Error\", xaxt = \"n\")\n",
    "axis(1, at=seq(0, n-1, by = 10), labels=seq(0.5, 1.00, by = 10*r))\n",
    "\n",
    "# You will notice that the plot actually diverges to infinity\n",
    "# Try making R smaller to show this fact!\n",
    "#Notice the value at 1 increases"
   ]
  },
  {
   "cell_type": "markdown",
   "metadata": {
    "pycharm": {
     "name": "#%% md\n"
    }
   },
   "source": [
    "Why does this happen?  The reason actually has to do with _information_.\n",
    "\n",
    "When you estimate a regression, you are using the variation in the data to estimate each of the parameters.  As the variation falls, the estimation gets less and less precise, because you are using less and less data to make an evaluation.  The magnitude of this problem can be quantified using the **VIF** or **variance inflation factor** for each of the variables in question.Graphically you can think of regression as drawing a best fit line through data points. Now if the variance is $0$ in the data, there is just one data point.If you remember from high school you need two points to draw a line, so with $0$ variance the OLS problem becomes ill-defined.\n",
    "\n",
    "We can calculate this directly in R by using the ``vif`` function.  Let's look at the collinearity in our model:"
   ]
  },
  {
   "cell_type": "code",
   "execution_count": 29,
   "metadata": {
    "collapsed": false,
    "jupyter": {
     "outputs_hidden": false
    },
    "pycharm": {
     "name": "#%%\n"
    },
    "vscode": {
     "languageId": "r"
    }
   },
   "outputs": [
    {
     "data": {
      "text/plain": [
       "\n",
       "Call:\n",
       "lm(formula = wealth ~ income_before_tax + income_after_tax, data = SFS_data)\n",
       "\n",
       "Residuals:\n",
       "      Min        1Q    Median        3Q       Max \n",
       "-16142648   -624841   -325170    186684  27722471 \n",
       "\n",
       "Coefficients:\n",
       "                   Estimate Std. Error t value Pr(>|t|)    \n",
       "(Intercept)       2.308e+05  2.705e+04   8.531  < 2e-16 ***\n",
       "income_before_tax 1.827e+00  4.493e-01   4.066 4.82e-05 ***\n",
       "income_after_tax  7.242e+00  6.959e-01  10.406  < 2e-16 ***\n",
       "---\n",
       "Signif. codes:  0 ‘***’ 0.001 ‘**’ 0.01 ‘*’ 0.05 ‘.’ 0.1 ‘ ’ 1\n",
       "\n",
       "Residual standard error: 1549000 on 10138 degrees of freedom\n",
       "Multiple R-squared:  0.2152,\tAdjusted R-squared:  0.2151 \n",
       "F-statistic:  1390 on 2 and 10138 DF,  p-value: < 2.2e-16\n"
      ]
     },
     "metadata": {},
     "output_type": "display_data"
    }
   ],
   "source": [
    "regression2 <- lm(wealth ~  income_before_tax +income_after_tax, data = SFS_data)\n",
    "\n",
    "summary(regression2)\n",
    "\n"
   ]
  },
  {
   "cell_type": "code",
   "execution_count": 35,
   "metadata": {
    "collapsed": false,
    "jupyter": {
     "outputs_hidden": false
    },
    "pycharm": {
     "name": "#%%\n"
    },
    "vscode": {
     "languageId": "r"
    }
   },
   "outputs": [
    {
     "name": "stdout",
     "output_type": "stream",
     "text": [
      "varraince infaltion factor of  income after tax on wealth 1.860563 \n",
      "varraince infaltion factor of  income before tax on wealth 1.83414 \n",
      "varraince infaltion factor of  income before tax on income after tax 26.45109 \n"
     ]
    }
   ],
   "source": [
    "cat(\"varraince infaltion factor of  income after tax on wealth\",vif(regression2,SFS_data$income_after_tax,SFS_data$wealth),'\\n')\n",
    "cat(\"varraince infaltion factor of  income before tax on wealth\",vif(regression2,SFS_data$income_before_tax,SFS_data$wealth),'\\n')\n",
    "cat(\"varraince infaltion factor of  income before tax on income after tax\",vif(regression2,SFS_data$income_before_tax,SFS_data$income_after_tax),'\\n')"
   ]
  },
  {
   "cell_type": "markdown",
   "metadata": {
    "pycharm": {
     "name": "#%% md\n"
    }
   },
   "source": [
    "Notice the extremely large VIF.  This would indicate that you have a problem with collinearity in your data.\n",
    "\n",
    "> _Think Deeper_:  What happens to the VIF as ``k`` changes?  Why?  Can you explain?\n",
    "\n",
    "There are no \"hard\" rules for what makes a VIF too large - you should think about your model holistically, and use it as a way to investigate whether you have any problems with your model evaluation and analysis."
   ]
  },
  {
   "cell_type": "markdown",
   "metadata": {
    "pycharm": {
     "name": "#%% md\n"
    }
   },
   "source": [
    "## Part 2: Heteroskedasticity\n",
    "\n",
    "**Heteroskedasticity** (Het-er-o-sked-as-ti-city) is another common problem in many economic models.  It refers to the situation in which the distribution of the residuals changes as the explanatory variables change. Usually, we could visualize this problem by drawing a residual plot and a fan or cone shape indicates the presence of heteroskedasticity. For example, consider this regression:"
   ]
  },
  {
   "cell_type": "code",
   "execution_count": 37,
   "metadata": {
    "collapsed": false,
    "jupyter": {
     "outputs_hidden": false
    },
    "pycharm": {
     "name": "#%%\n"
    },
    "vscode": {
     "languageId": "r"
    }
   },
   "outputs": [
    {
     "name": "stderr",
     "output_type": "stream",
     "text": [
      "Don't know how to automatically pick scale for object of type haven_labelled/vctrs_vctr/double. Defaulting to continuous.\n",
      "\n",
      "Don't know how to automatically pick scale for object of type haven_labelled/vctrs_vctr/double. Defaulting to continuous.\n",
      "\n"
     ]
    },
    {
     "data": {
      "image/png": "[encoded data removed]",
      "text/plain": [
       "plot without title"
      ]
     },
     "metadata": {
      "image/png": {
       "height": 240,
       "width": 360
      }
     },
     "output_type": "display_data"
    }
   ],
   "source": [
    "regression3 <- lm(income_before_tax ~ income_after_tax, data = SFS_data)\n",
    "\n",
    "ggplot(data = SFS_data, aes(x =income_after_tax, y = regression3$residuals)) + geom_point() + labs(x = \"After tax income\", y = \"Residuals\")"
   ]
  },
  {
   "cell_type": "markdown",
   "metadata": {
    "pycharm": {
     "name": "#%% md\n"
    }
   },
   "source": [
    "This obviously does not look like a distribution which is unchanging as market income changes.  This is a good \"eyeball test\" for heteroskedasticty.  Why does heteroskedasticity arise?  For many reasons:\n",
    "\n",
    "1.  It can be a property of the data; it just happens that some values show more variation, due to the process which creates the data.  One of the most common ways this can arise is where there are several different economic processes creating the data.  \n",
    "\n",
    "2.  It can be because of an unobserved variable.  This is similar to above; if we can quantify that process in a variable or a description, we have left it out.  This could create bias in our model, but it will also show up in the standard errors in this way.\n",
    "3.  It can be because of your model specification.  Models, by their very nature, can be heteroskedastic (or not); we will explore one important example later in this worksheet.\n",
    "4.  There are many other reasons, which we won't get into here.\n",
    "\n",
    "Whatever the reason it exists, you need to correct for it - if you don't, while your coefficients will be OK, your standard errors will be incorrect.  You can do this in a few ways.  The first way is to try to change your variables that the \"transformed\" model (a) makes economic sense, and (b) no longer suffers from heteroskedasticity.  For example, perhaps a _log-log_ style model might work here:\n"
   ]
  },
  {
   "cell_type": "code",
   "execution_count": 38,
   "metadata": {
    "collapsed": false,
    "jupyter": {
     "outputs_hidden": false
    },
    "pycharm": {
     "name": "#%%\n"
    },
    "vscode": {
     "languageId": "r"
    }
   },
   "outputs": [
    {
     "name": "stderr",
     "output_type": "stream",
     "text": [
      "Warning message in .fn(vec_data(.x), ...):\n",
      "“NaNs produced”\n",
      "Warning message in .fn(vec_data(.x), ...):\n",
      "“NaNs produced”\n"
     ]
    },
    {
     "data": {
      "image/png": "[encoded data removed]",
      "text/plain": [
       "plot without title"
      ]
     },
     "metadata": {
      "image/png": {
       "height": 240,
       "width": 360
      }
     },
     "output_type": "display_data"
    }
   ],
   "source": [
    "SFS_data <- SFS_data %>%\n",
    "               mutate(lnincome_before_tax = log(income_before_tax))\n",
    "\n",
    "SFS_data <- SFS_data %>%\n",
    "               mutate(lnincome_after_tax = log(income_after_tax))\n",
    "\n",
    "#getting rid of NAs\n",
    "temp_data <- filter(SFS_data, !is.na(SFS_data$lnincome_before_tax))\n",
    "temp_data <- filter(temp_data, !is.na(temp_data$lnincome_after_tax))\n",
    "#You might need to comment out these two lines below, depending on your kernal of r\n",
    "temp_data <- filter(temp_data, temp_data$lnincome_after_tax!=-Inf)\n",
    "temp_data <- filter(temp_data, temp_data$lnincome_before_tax!=-Inf)\n",
    "\n",
    "\n",
    "regression4 <- lm(lnincome_before_tax ~ lnincome_after_tax, data = temp_data)\n",
    "\n",
    "ggplot(data = temp_data, aes(x = lnincome_before_tax, y = regression4$residuals)) + geom_point() + labs(x = \"Log of before tax income\", y = \"Residuals\")"
   ]
  },
  {
   "cell_type": "markdown",
   "metadata": {
    "pycharm": {
     "name": "#%% md\n"
    }
   },
   "source": [
    "> _Think Deeper_: Does the errors of this model seem homoskedastic?\n",
    "\n",
    "As you can see, that didn't work out.  This is pretty typical: when you transform a model by changing the variables, what you are really doing is adjusting how you think the data process should be described so that it's no longer heteroskedastic.  If you aren't correct with this, you won't fix the problem.\n",
    "\n",
    "For example, in a _log-log_ model, we are saying \"there's a multiplicative relationship\"... but that probably doesn't make sense here.  This is one of the reasons why data transformations are not usually a good way to fix this problem unless you have a very clear idea of what the transformation _should_ be.\n",
    "\n",
    "The most robust (no pun intended) way is to simply use standard errors which are robust to heteroskedasticity.  There are actually a number of different versions of these (which you don't need to know about), but they are all called **HC** or **hetereoskedasticity-corrected** standard errors.  In economics, we typically adopt White's versions of these (called **HC1** in the literature); these are often referred to in economics papers as \"robust\" standard errors (for short).\n",
    "\n",
    "This is relatively easy to do in R.  Basically, you run your model, as normal, and then re-test the coefficients to get the correct error using the ``coeftest`` command, but specifying which kind of errors you want to use.  Here is an example:"
   ]
  },
  {
   "cell_type": "code",
   "execution_count": 39,
   "metadata": {
    "collapsed": false,
    "jupyter": {
     "outputs_hidden": false
    },
    "pycharm": {
     "name": "#%%\n"
    },
    "vscode": {
     "languageId": "r"
    }
   },
   "outputs": [
    {
     "data": {
      "text/plain": [
       "\n",
       "Call:\n",
       "lm(formula = income_before_tax ~ income_after_tax, data = SFS_data)\n",
       "\n",
       "Residuals:\n",
       "    Min      1Q  Median      3Q     Max \n",
       "-264118  -13229    1171   12497 1530641 \n",
       "\n",
       "Coefficients:\n",
       "                   Estimate Std. Error t value Pr(>|t|)    \n",
       "(Intercept)      -3.336e+04  4.977e+02  -67.03   <2e-16 ***\n",
       "income_after_tax  1.490e+00  4.189e-03  355.72   <2e-16 ***\n",
       "---\n",
       "Signif. codes:  0 ‘***’ 0.001 ‘**’ 0.01 ‘*’ 0.05 ‘.’ 0.1 ‘ ’ 1\n",
       "\n",
       "Residual standard error: 34230 on 10139 degrees of freedom\n",
       "Multiple R-squared:  0.9258,\tAdjusted R-squared:  0.9258 \n",
       "F-statistic: 1.265e+05 on 1 and 10139 DF,  p-value: < 2.2e-16\n"
      ]
     },
     "metadata": {},
     "output_type": "display_data"
    },
    {
     "ename": "ERROR",
     "evalue": "Error in vcovHC(regression5, type = \"HC1\"): could not find function \"vcovHC\"\n",
     "output_type": "error",
     "traceback": [
      "Error in vcovHC(regression5, type = \"HC1\"): could not find function \"vcovHC\"\nTraceback:\n",
      "1. coeftest(regression5, vcov = vcovHC(regression5, type = \"HC1\"))",
      "2. coeftest.default(regression5, vcov = vcovHC(regression5, type = \"HC1\"))"
     ]
    }
   ],
   "source": [
    "regression5 <- lm(income_before_tax ~ income_after_tax, data = SFS_data)\n",
    "\n",
    "summary(regression5)\n",
    "\n",
    "coeftest(regression5, vcov = vcovHC(regression5, type = \"HC1\"))"
   ]
  },
  {
   "cell_type": "markdown",
   "metadata": {
    "pycharm": {
     "name": "#%% md\n"
    }
   },
   "source": [
    "As you can see, the standard errors (and significance tests) give different results; in particular, the HC1 errors are almost 10-times larger than the uncorrected errors.  In this particular model, it didn't make much of a different to the conclusions (even though it changed the $t$ statistics a lot), but it can sometimes change your results.\n",
    "\n",
    "### Testing for Heteroskedasticity\n",
    "\n",
    "You can also perform some formal tests for heteroskedasticity.  We learned about two of them in class:\n",
    "\n",
    "1.  White's Test, which relies on performing a regression using the residuals\n",
    "2.  Breusch-Pagan Test, which also relies on performing a simpler regression using the residuals\n",
    "\n",
    "Both of them are, conceptually, very similar.  Let's try (2) for the above regression:"
   ]
  },
  {
   "cell_type": "code",
   "execution_count": 41,
   "metadata": {
    "collapsed": false,
    "jupyter": {
     "outputs_hidden": false
    },
    "pycharm": {
     "name": "#%%\n"
    },
    "vscode": {
     "languageId": "r"
    }
   },
   "outputs": [
    {
     "data": {
      "text/plain": [
       "\n",
       "Call:\n",
       "lm(formula = resid_sq ~ income_after_tax, data = SFS_data)\n",
       "\n",
       "Residuals:\n",
       "       Min         1Q     Median         3Q        Max \n",
       "-8.580e+10 -1.914e+09 -1.780e+08  1.076e+09  2.345e+12 \n",
       "\n",
       "Coefficients:\n",
       "                   Estimate Std. Error t value Pr(>|t|)    \n",
       "(Intercept)      -2.383e+09  3.965e+08   -6.01 1.92e-09 ***\n",
       "income_after_tax  4.096e+04  3.337e+03   12.27  < 2e-16 ***\n",
       "---\n",
       "Signif. codes:  0 ‘***’ 0.001 ‘**’ 0.01 ‘*’ 0.05 ‘.’ 0.1 ‘ ’ 1\n",
       "\n",
       "Residual standard error: 2.727e+10 on 10139 degrees of freedom\n",
       "Multiple R-squared:  0.01464,\tAdjusted R-squared:  0.01454 \n",
       "F-statistic: 150.6 on 1 and 10139 DF,  p-value: < 2.2e-16\n"
      ]
     },
     "metadata": {},
     "output_type": "display_data"
    }
   ],
   "source": [
    "regression2 <- lm(income_before_tax ~ income_after_tax, data = SFS_data) #we hould understand this by now\n",
    "\n",
    "SFS_data$resid_sq <- (regression2$residuals)^2 #get the residuals then square it\n",
    "\n",
    "regression3 <- lm(resid_sq ~ income_after_tax, data = SFS_data) #make the residules a function of X\n",
    "\n",
    "summary(regression3)"
   ]
  },
  {
   "cell_type": "markdown",
   "metadata": {
    "pycharm": {
     "name": "#%% md\n"
    }
   },
   "source": [
    "Inspecting the results, we can see from the $F$-statistic that we can strongly reject the assumption of homoskedasticity. This is denoted by the 3 asterisk. This data looks like it's heteroskedastic, because the residuals can be predicted using the explanatory variables.\n",
    "\n",
    "There is one very important note: \n",
    "\n",
    "* If you **fail** one of these tests, it implies that your data is heteroskedastic\n",
    "* If you **pass** one of these tests, it _does not_ imply that your data is homoskedastic (i.e. not heteroskedastic)\n",
    "\n",
    "This is because these are statistical tests, and the null hypothesis is \"not heteroskedastic\".  Failing to reject the null does not mean that the null hypothesis is correct - it just means that you can't rule it out.  This is one of the reasons many economists recommend that you _always_ use robust standard errors unless you have a really compelling reason to believe otherwise.\n",
    "\n",
    "### Linear Probability Models\n",
    "\n",
    "How can a model naturally have heteroskedastic standard errors?  It turns out that many common, and important, models have this issue.  In particular, the **linear probability** model has this problem.  If you recall, a linear probability model is a linear regression in which the dependent variable is a dummy.  For example:\n",
    "\n",
    "$$D_i = \\beta_0 + \\beta_1 X_{1,i} + \\beta_2 X_{2,i} + \\epsilon_i$$\n",
    "\n",
    "These model are quite useful because the coefficients have the interpretation as being the change in the probability of the dummy condition occurring.  For example, we previously regressed ``gender`` (of male or female) in these models to investigate the wealth gap.  However, this can easily cause a problem when estimated using OLS - the value of $D_i$ must be 0 or 1, and the fitted values (which are probabilities) must be between 0 and 1.\n",
    "\n",
    "However, _nothing_ in the OLS model forces this to be true.  If you estimate a value for $\\beta_1$, if you have an $X_{1,i}$ that is high or low enough, the fitted values will be above or below 1 or 0 (respectively).  This implies that _mechanically_ you have heteroskedasticity because high or low values of the explanatory variables will ALWAYS fit worse than intermediate values.  For example, let's look at the fitted values from this regression:"
   ]
  },
  {
   "cell_type": "code",
   "execution_count": 42,
   "metadata": {
    "collapsed": false,
    "jupyter": {
     "outputs_hidden": false
    },
    "pycharm": {
     "name": "#%%\n"
    },
    "vscode": {
     "languageId": "r"
    }
   },
   "outputs": [
    {
     "data": {
      "text/plain": [
       "\n",
       "Call:\n",
       "lm(formula = M_F ~ income_before_tax, data = SFS_data)\n",
       "\n",
       "Residuals:\n",
       "    Min      1Q  Median      3Q     Max \n",
       "-0.4720 -0.4123 -0.3563  0.5697  1.4120 \n",
       "\n",
       "Coefficients:\n",
       "                    Estimate Std. Error t value Pr(>|t|)    \n",
       "(Intercept)        4.475e-01  6.060e-03   73.84   <2e-16 ***\n",
       "income_before_tax -5.209e-07  3.833e-08  -13.59   <2e-16 ***\n",
       "---\n",
       "Signif. codes:  0 ‘***’ 0.001 ‘**’ 0.01 ‘*’ 0.05 ‘.’ 0.1 ‘ ’ 1\n",
       "\n",
       "Residual standard error: 0.485 on 10139 degrees of freedom\n",
       "Multiple R-squared:  0.01789,\tAdjusted R-squared:  0.01779 \n",
       "F-statistic: 184.7 on 1 and 10139 DF,  p-value: < 2.2e-16\n"
      ]
     },
     "metadata": {},
     "output_type": "display_data"
    },
    {
     "name": "stderr",
     "output_type": "stream",
     "text": [
      "Don't know how to automatically pick scale for object of type haven_labelled/vctrs_vctr/double. Defaulting to continuous.\n",
      "\n"
     ]
    },
    {
     "data": {
      "image/png": "[encoded data removed]",
      "text/plain": [
       "plot without title"
      ]
     },
     "metadata": {
      "image/png": {
       "height": 240,
       "width": 360
      }
     },
     "output_type": "display_data"
    }
   ],
   "source": [
    "#SFS_data$dummy_immstat = as.numeric(SFS_data$gender) - 1 #what is this line of code doing?  \n",
    "\n",
    "SFS_data <- SFS_data %>%\n",
    "    mutate(M_F = case_when(\n",
    "        gender == \"Male\"  ~ 0,\n",
    "        gender == \"Female\" ~ 1,\n",
    "    ))\n",
    "\n",
    "regression6 <- lm(M_F ~ income_before_tax, data = SFS_data)\n",
    "\n",
    "SFS_data$fitted <- predict(regression6, SFS_data)\n",
    "\n",
    "summary(regression6)\n",
    "\n",
    "ggplot(data = SFS_data, aes(x = income_before_tax, y = fitted)) + geom_point() + labs(x = \"before tax income\", y = \"Predicted Probability\")\n",
    "\n"
   ]
  },
  {
   "cell_type": "markdown",
   "metadata": {
    "pycharm": {
     "name": "#%% md\n"
    }
   },
   "source": [
    "Notice how that as $y$ gets larger as the fitted value drops.  If someone has an income of over 1 million dollars, they would be predicted to have a negative probability of being a female - which is impossible.\n",
    "\n",
    "This is why you _always_ must use robust standard errors in these models - even if a test says otherwise. Let's think about what is happening here, well remember the example of  imperfect collinearity, we're the was $1-k$ chance of $x$ being 15 and k of $x$ being 20. Now remember x was co-linear to $\\beta_0$, and this caused large standard errors. In this scenario the probability of a someone being female given they earn over a million dollars a year is very small. This because few female lead has household earn over a million dollars a year as a percent of the total households earning over a million dollars a year."
   ]
  },
  {
   "cell_type": "markdown",
   "metadata": {
    "pycharm": {
     "name": "#%% md\n"
    }
   },
   "source": [
    "## Part 3: Exercises\n",
    "\n",
    "In these exercises, you will get some hands-on experience with testing and correcting for heteroskedasticity and multicollinearity. You will also start to think about the mechanics and uses of non-linear regressions.\n",
    "\n",
    "### Activity 1\n",
    "\n",
    "Multicollinearity may seem to be an abstract concept, so let's explore this issue with a practical example. \n",
    "\n",
    "Suppose that we are looking to explore the relationship between a families income the gender of the major earner. For instance, we want to know whether families with higher incomes in Canada are more likely to be male. Recall that we have two measures of income: ``income_before_tax`` and ``income_after_tax``. Both measures of income are informative: ``income_before_tax`` refers to gross annual income (before taxes) that employers pay to employees; ``income_after_tax`` refers to net income after taxes have been deducted. \n",
    "\n",
    "Since they are both good measures of income, we decide to put them both in our regression:\n",
    "\n",
    "$$M_F = \\beta_0 + \\beta_1 I_{bi} + \\beta_2 I_{ai} + \\epsilon_i$$\n",
    "\n",
    "$M_F$ denotes the dummy variable for whether the person is male or female, $I_{ai}$ denotes income after taxes, and $I_{bi}$ denotes income before taxes.\n",
    "\n",
    "### Short Answer 1\n",
    "\n",
    "<em>Prompt:</em> What concern should we have about this regression equation? Explain your intuition.\n"
   ]
  },
  {
   "cell_type": "markdown",
   "metadata": {
    "pycharm": {
     "name": "#%% md\n"
    }
   },
   "source": [
    "<font color=\"red\">Answer here in red"
   ]
  },
  {
   "cell_type": "markdown",
   "metadata": {
    "pycharm": {
     "name": "#%% md\n"
    }
   },
   "source": [
    "Before we continue, let's reduce the sample size of our data set to 200 observations. We will also revert ``gender`` into a numeric variable:"
   ]
  },
  {
   "cell_type": "code",
   "execution_count": 43,
   "metadata": {
    "collapsed": false,
    "jupyter": {
     "outputs_hidden": false
    },
    "pycharm": {
     "name": "#%%\n"
    },
    "vscode": {
     "languageId": "r"
    }
   },
   "outputs": [],
   "source": [
    "#Run this!\n",
    "SFS_data200 <- head(SFS_data, 200) %>%\n",
    "    mutate(M_F = as.numeric(gender)) #everyone in the first 200 obesrvations idenfide as, male or female (this is not true for the whole dataset)"
   ]
  },
  {
   "cell_type": "markdown",
   "metadata": {
    "pycharm": {
     "name": "#%% md\n"
    }
   },
   "source": [
    "### Activity 2\n",
    "\n",
    "Run the regression described above.\n",
    "\n",
    "<em>Tested Objects:</em> ``reg1``."
   ]
  },
  {
   "cell_type": "code",
   "execution_count": 82,
   "metadata": {
    "collapsed": false,
    "jupyter": {
     "outputs_hidden": false
    },
    "pycharm": {
     "name": "#%%\n"
    },
    "vscode": {
     "languageId": "r"
    }
   },
   "outputs": [
    {
     "data": {
      "text/plain": [
       "\n",
       "Call:\n",
       "lm(formula = M_F ~ income_before_tax + income_after_tax, data = SFS_data200)\n",
       "\n",
       "Residuals:\n",
       "    Min      1Q  Median      3Q     Max \n",
       "-0.4985 -0.4009 -0.2592  0.5403  1.0070 \n",
       "\n",
       "Coefficients:\n",
       "                    Estimate Std. Error t value Pr(>|t|)    \n",
       "(Intercept)        1.531e+00  7.959e-02  19.234   <2e-16 ***\n",
       "income_before_tax -2.184e-07  2.140e-06  -0.102    0.919    \n",
       "income_after_tax  -3.081e-06  2.739e-06  -1.125    0.262    \n",
       "---\n",
       "Signif. codes:  0 ‘***’ 0.001 ‘**’ 0.01 ‘*’ 0.05 ‘.’ 0.1 ‘ ’ 1\n",
       "\n",
       "Residual standard error: 0.4705 on 197 degrees of freedom\n",
       "Multiple R-squared:  0.05925,\tAdjusted R-squared:  0.0497 \n",
       "F-statistic: 6.204 on 2 and 197 DF,  p-value: 0.002439\n"
      ]
     },
     "metadata": {},
     "output_type": "display_data"
    },
    {
     "data": {
      "text/html": [
       "'5492ea03b542f2865d0889675db7c138'"
      ],
      "text/latex": [
       "'5492ea03b542f2865d0889675db7c138'"
      ],
      "text/markdown": [
       "'5492ea03b542f2865d0889675db7c138'"
      ],
      "text/plain": [
       "[1] \"5492ea03b542f2865d0889675db7c138\""
      ]
     },
     "metadata": {},
     "output_type": "display_data"
    },
    {
     "name": "stdout",
     "output_type": "stream",
     "text": [
      "\u001b[32mTest passed\u001b[39m 🥇\n",
      "[1] \"Success!\"\n"
     ]
    }
   ],
   "source": [
    "\n",
    "#Quiz 1\n",
    "\n",
    "reg1 <- lm(M_F~income_before_tax+income_after_tax, data = SFS_data200) #fill me in\n",
    "\n",
    "summary(reg1)\n",
    "\n",
    "\n",
    "test_1() #test1"
   ]
  },
  {
   "cell_type": "markdown",
   "metadata": {
    "pycharm": {
     "name": "#%% md\n"
    }
   },
   "source": [
    "### Short Answer 2\n",
    "\n",
    "<em>Prompt:</em> What do you notice about the characteristics of the estimated regression? Does anything point to your concern being valid?"
   ]
  },
  {
   "cell_type": "markdown",
   "metadata": {
    "pycharm": {
     "name": "#%% md\n"
    }
   },
   "source": [
    "<font color=\"red\">Answer here in red\n",
    "\n"
   ]
  },
  {
   "cell_type": "markdown",
   "metadata": {
    "pycharm": {
     "name": "#%% md\n"
    }
   },
   "source": [
    "Now, let's suppose we drop 50 more observations:"
   ]
  },
  {
   "cell_type": "code",
   "execution_count": 61,
   "metadata": {
    "collapsed": false,
    "jupyter": {
     "outputs_hidden": false
    },
    "pycharm": {
     "name": "#%%\n"
    },
    "vscode": {
     "languageId": "r"
    }
   },
   "outputs": [],
   "source": [
    "#Run this!\n",
    "SFS_data150 <- head(SFS_data200, 150)"
   ]
  },
  {
   "cell_type": "markdown",
   "metadata": {
    "pycharm": {
     "name": "#%% md\n"
    }
   },
   "source": [
    "Run the regression model again and compare it with the previous regression.\n",
    "\n",
    "<em>Tested Objects:</em> ``reg2``."
   ]
  },
  {
   "cell_type": "code",
   "execution_count": 84,
   "metadata": {
    "collapsed": false,
    "jupyter": {
     "outputs_hidden": false
    },
    "pycharm": {
     "name": "#%%\n"
    },
    "vscode": {
     "languageId": "r"
    }
   },
   "outputs": [
    {
     "data": {
      "text/plain": [
       "\n",
       "Call:\n",
       "lm(formula = M_F ~ income_before_tax + income_after_tax, data = SFS_data150)\n",
       "\n",
       "Residuals:\n",
       "    Min      1Q  Median      3Q     Max \n",
       "-0.4666 -0.4049 -0.2612  0.5493  1.0054 \n",
       "\n",
       "Coefficients:\n",
       "                    Estimate Std. Error t value Pr(>|t|)    \n",
       "(Intercept)        1.449e+00  9.050e-02  16.009   <2e-16 ***\n",
       "income_before_tax -2.660e-06  2.452e-06  -1.085    0.280    \n",
       "income_after_tax   1.514e-07  3.063e-06   0.049    0.961    \n",
       "---\n",
       "Signif. codes:  0 ‘***’ 0.001 ‘**’ 0.01 ‘*’ 0.05 ‘.’ 0.1 ‘ ’ 1\n",
       "\n",
       "Residual standard error: 0.471 on 147 degrees of freedom\n",
       "Multiple R-squared:  0.05648,\tAdjusted R-squared:  0.04364 \n",
       "F-statistic:   4.4 on 2 and 147 DF,  p-value: 0.01394\n"
      ]
     },
     "metadata": {},
     "output_type": "display_data"
    },
    {
     "data": {
      "text/html": [
       "'0b9cf3c70995c397636b67404f48be2e'"
      ],
      "text/latex": [
       "'0b9cf3c70995c397636b67404f48be2e'"
      ],
      "text/markdown": [
       "'0b9cf3c70995c397636b67404f48be2e'"
      ],
      "text/plain": [
       "[1] \"0b9cf3c70995c397636b67404f48be2e\""
      ]
     },
     "metadata": {},
     "output_type": "display_data"
    },
    {
     "name": "stdout",
     "output_type": "stream",
     "text": [
      "\u001b[32mTest passed\u001b[39m 🎉\n",
      "[1] \"Success!\"\n"
     ]
    }
   ],
   "source": [
    "#Quiz 2\n",
    "\n",
    "\n",
    "reg2 <- lm(M_F~income_before_tax+income_after_tax, data = SFS_data150) # fill me in\n",
    "\n",
    "summary(reg2)\n",
    "\n",
    "\n",
    "test_2() "
   ]
  },
  {
   "cell_type": "markdown",
   "metadata": {
    "pycharm": {
     "name": "#%% md\n"
    }
   },
   "source": [
    "### Short Answer 3\n",
    "\n",
    "<em>Prompt:</em> What happened to the regression estimates when we dropped 50 observations? Does this point to your concern being valid?"
   ]
  },
  {
   "cell_type": "markdown",
   "metadata": {
    "pycharm": {
     "name": "#%% md\n"
    }
   },
   "source": [
    "<font color=\"red\">Answer here in red</font>\n"
   ]
  },
  {
   "cell_type": "markdown",
   "metadata": {
    "pycharm": {
     "name": "#%% md\n"
    }
   },
   "source": [
    "Next, increase the sample size back to its full size and run the regression once again.\n",
    "\n",
    "<em>Tested Objects:</em> ``reg3``"
   ]
  },
  {
   "cell_type": "code",
   "execution_count": 88,
   "metadata": {
    "collapsed": false,
    "jupyter": {
     "outputs_hidden": false
    },
    "pycharm": {
     "name": "#%%\n"
    },
    "vscode": {
     "languageId": "r"
    }
   },
   "outputs": [
    {
     "data": {
      "text/plain": [
       "\n",
       "Call:\n",
       "lm(formula = M_F ~ income_before_tax + income_after_tax, data = SFS_data)\n",
       "\n",
       "Residuals:\n",
       "    Min      1Q  Median      3Q     Max \n",
       "-0.8249 -0.4124 -0.3458  0.5648  1.6254 \n",
       "\n",
       "Coefficients:\n",
       "                    Estimate Std. Error t value Pr(>|t|)    \n",
       "(Intercept)        4.761e-01  8.463e-03  56.260  < 2e-16 ***\n",
       "income_before_tax  1.340e-07  1.406e-07   0.953     0.34    \n",
       "income_after_tax  -1.054e-06  2.177e-07  -4.842 1.31e-06 ***\n",
       "---\n",
       "Signif. codes:  0 ‘***’ 0.001 ‘**’ 0.01 ‘*’ 0.05 ‘.’ 0.1 ‘ ’ 1\n",
       "\n",
       "Residual standard error: 0.4845 on 10138 degrees of freedom\n",
       "Multiple R-squared:  0.02015,\tAdjusted R-squared:  0.01996 \n",
       "F-statistic: 104.3 on 2 and 10138 DF,  p-value: < 2.2e-16\n"
      ]
     },
     "metadata": {},
     "output_type": "display_data"
    },
    {
     "name": "stdout",
     "output_type": "stream",
     "text": [
      "\u001b[32mTest passed\u001b[39m 🌈\n",
      "[1] \"Success!\"\n"
     ]
    }
   ],
   "source": [
    "#Quiz 3\n",
    "source(\"hands_on_tests_4.r\")\n",
    "\n",
    "reg3 <- lm(M_F ~income_before_tax+income_after_tax, data = SFS_data) #fill me in\n",
    "\n",
    "summary(reg3)\n",
    "\n",
    "test_3() #test2"
   ]
  },
  {
   "cell_type": "markdown",
   "metadata": {
    "pycharm": {
     "name": "#%% md\n"
    }
   },
   "source": [
    "### Short Answer 5\n",
    "\n",
    "<em>Prompt:</em> Did this change eliminate the concern? How do you know?"
   ]
  },
  {
   "cell_type": "markdown",
   "metadata": {
    "pycharm": {
     "name": "#%% md\n"
    }
   },
   "source": [
    "<font color=\"red\">Answer here in red </font>\n",
    "\n",
    "\n"
   ]
  },
  {
   "cell_type": "markdown",
   "metadata": {
    "pycharm": {
     "name": "#%% md\n"
    }
   },
   "source": [
    "Heteroskedasticity is another issue that researchers frequently deal with when they estimate regression models. Consider the following regression model:\n",
    "\n",
    "$$I_i = \\alpha_0 + \\alpha_1 E_i + \\alpha_2 G_i  + \\epsilon_i$$\n",
    "\n",
    "$I_i$ denotes before tax income, $E_i$ is level of education, $D_i$ is a dummy variable for being female.\n",
    "\n",
    "### Short Answer 6 \n",
    "<em>Prompt:</em> Should we be concerned about heteroskedasticity in this model? If so, what is the potential source of heteroskedasticity, and what do we suspect to be the relationship between the regressor and the error term?"
   ]
  },
  {
   "cell_type": "markdown",
   "metadata": {
    "pycharm": {
     "name": "#%% md\n"
    }
   },
   "source": [
    "<font color=\"red\">Answer here in red\n"
   ]
  },
  {
   "cell_type": "markdown",
   "metadata": {
    "pycharm": {
     "name": "#%% md\n"
    }
   },
   "source": [
    "### Short Answer 7\n",
    "\n",
    "<em>Prompt:</em> If we suppose that heteroskedasticity is a problem in this regression, what consequences will this have for our regression estimates?"
   ]
  },
  {
   "cell_type": "markdown",
   "metadata": {
    "pycharm": {
     "name": "#%% md\n"
    }
   },
   "source": [
    "<font color=\"red\">Answer here in red </font>"
   ]
  },
  {
   "cell_type": "markdown",
   "metadata": {
    "pycharm": {
     "name": "#%% md\n"
    }
   },
   "source": [
    "Run the regression below, and graph the residuals against the level of schooling.\n",
    "\n",
    "<em>Tested Objects:</em> ``reg5``. The graph will be graded manually."
   ]
  },
  {
   "cell_type": "code",
   "execution_count": 93,
   "metadata": {
    "collapsed": false,
    "jupyter": {
     "outputs_hidden": false
    },
    "pycharm": {
     "name": "#%%\n"
    },
    "vscode": {
     "languageId": "r"
    }
   },
   "outputs": [
    {
     "name": "stderr",
     "output_type": "stream",
     "text": [
      "Don't know how to automatically pick scale for object of type haven_labelled/vctrs_vctr/double. Defaulting to continuous.\n",
      "\n"
     ]
    },
    {
     "data": {
      "image/png": "[encoded data removed]",
      "text/plain": [
       "plot without title"
      ]
     },
     "metadata": {
      "image/png": {
       "height": 240,
       "width": 360
      }
     },
     "output_type": "display_data"
    }
   ],
   "source": [
    "#Quiz 5\n",
    "\n",
    "\n",
    "#Run the regression\n",
    "reg5 <- lm(income_before_tax~education, data = SFS_data)\n",
    "\n",
    "resiplot <- ggplot(reg5, aes(x = education, y = .resid)) + xlab(\"Education Level\") + ylab(\"Income (Residuals)\")\n",
    "resiplot + geom_point() + geom_hline(yintercept = 0) + scale_x_discrete(guide = guide_axis(n.dodge=3))\n"
   ]
  },
  {
   "cell_type": "markdown",
   "metadata": {
    "pycharm": {
     "name": "#%% md\n"
    }
   },
   "source": [
    "### Short Answer 8\n",
    "\n",
    "<em>Prompt:</em> Describe the relationship between education level and the residuals in the graph above. What does the graph tell us about the presence and nature of heteroskedasticity in the regression model?"
   ]
  },
  {
   "cell_type": "markdown",
   "metadata": {
    "pycharm": {
     "name": "#%% md\n"
    }
   },
   "source": [
    "<font color=\"red\">Answer here in red:  </font>\n",
    "\n"
   ]
  },
  {
   "cell_type": "markdown",
   "metadata": {
    "pycharm": {
     "name": "#%% md\n"
    }
   },
   "source": [
    "To test for heteroskedasticity formally, let's perform the White Test. First, store the residuals from the previous regression in ``SFS_data``.\n",
    "\n",
    "<em> Tested Objects: ``SFS_data`` (checks to see that residuals were added properly)."
   ]
  },
  {
   "cell_type": "code",
   "execution_count": 94,
   "metadata": {
    "collapsed": false,
    "jupyter": {
     "outputs_hidden": false
    },
    "pycharm": {
     "name": "#%%\n"
    },
    "vscode": {
     "languageId": "r"
    }
   },
   "outputs": [
    {
     "data": {
      "text/plain": [
       "<labelled<double>[10]>: Market income.\n",
       "          1           2           3           4           5           6 \n",
       "  -305.8594 -37955.8594 -32055.8594  29194.1406 -15305.8594 -27305.8594 \n",
       "          7           8           9          10 \n",
       "-38305.8594 -31805.8594  -9305.8594 -38305.8594 \n",
       "\n",
       "Labels:\n",
       " value      label\n",
       " 1e+08 Valid skip\n",
       " 1e+08 Don't know\n",
       " 1e+08    Refusal\n",
       " 1e+08 Not stated"
      ]
     },
     "metadata": {},
     "output_type": "display_data"
    },
    {
     "name": "stdout",
     "output_type": "stream",
     "text": [
      "\u001b[32mTest passed\u001b[39m 🥳\n",
      "[1] \"Success!\"\n"
     ]
    }
   ],
   "source": [
    "#Quiz 6\n",
    "\n",
    "SFS_data <- mutate(SFS_data, resid = reg5$residuals)\n",
    "\n",
    "head(SFS_data$resid, 10) #Displays the residuals in the dataframe\n",
    "\n",
    "test_6() #test3"
   ]
  },
  {
   "cell_type": "markdown",
   "metadata": {
    "pycharm": {
     "name": "#%% md\n"
    }
   },
   "source": [
    "Next, generate a variable for the squared residuals, then run the required auxiliary regression.\n",
    "\n",
    "<em>Tested Objects:</em> ``WT`` (the auxiliary regression)."
   ]
  },
  {
   "cell_type": "code",
   "execution_count": 97,
   "metadata": {
    "collapsed": false,
    "jupyter": {
     "outputs_hidden": false
    },
    "pycharm": {
     "name": "#%%\n"
    },
    "scrolled": true,
    "vscode": {
     "languageId": "r"
    }
   },
   "outputs": [],
   "source": [
    "#Quiz 7\n",
    "model=lm(income_before_tax~gender^2 + gender + education^2 +education+ education*gender, data = SFS_data) # fill me in\n",
    "resid = reg5$residuals\n",
    "rsq=(resid)^2\n",
    "\n"
   ]
  },
  {
   "cell_type": "code",
   "execution_count": 96,
   "metadata": {
    "collapsed": false,
    "jupyter": {
     "outputs_hidden": false
    },
    "pycharm": {
     "name": "#%%\n"
    },
    "vscode": {
     "languageId": "r"
    }
   },
   "outputs": [
    {
     "data": {
      "text/plain": [
       "\n",
       "Call:\n",
       "lm(formula = rsq ~ education + gender + education^2 + gender^2 + \n",
       "    education * gender, data = SFS_data)\n",
       "\n",
       "Residuals:\n",
       "       Min         1Q     Median         3Q        Max \n",
       "-4.282e+10 -8.091e+09 -4.801e+09 -2.021e+09  9.963e+12 \n",
       "\n",
       "Coefficients:\n",
       "                                                      Estimate Std. Error\n",
       "(Intercept)                                          3.489e+09  7.343e+09\n",
       "educationHigh school                                 2.857e+09  9.100e+09\n",
       "educationNon-university post-secondary               3.034e+09  8.812e+09\n",
       "educationUniversity                                  3.933e+10  8.523e+09\n",
       "genderFemale                                         1.696e+09  1.202e+10\n",
       "educationHigh school:genderFemale                   -3.638e+09  1.487e+10\n",
       "educationNon-university post-secondary:genderFemale -3.396e+08  1.435e+10\n",
       "educationUniversity:genderFemale                    -3.456e+10  1.372e+10\n",
       "                                                    t value Pr(>|t|)    \n",
       "(Intercept)                                           0.475   0.6347    \n",
       "educationHigh school                                  0.314   0.7536    \n",
       "educationNon-university post-secondary                0.344   0.7306    \n",
       "educationUniversity                                   4.615 3.98e-06 ***\n",
       "genderFemale                                          0.141   0.8878    \n",
       "educationHigh school:genderFemale                    -0.245   0.8068    \n",
       "educationNon-university post-secondary:genderFemale  -0.024   0.9811    \n",
       "educationUniversity:genderFemale                     -2.519   0.0118 *  \n",
       "---\n",
       "Signif. codes:  0 ‘***’ 0.001 ‘**’ 0.01 ‘*’ 0.05 ‘.’ 0.1 ‘ ’ 1\n",
       "\n",
       "Residual standard error: 2.027e+11 on 10133 degrees of freedom\n",
       "Multiple R-squared:  0.005413,\tAdjusted R-squared:  0.004726 \n",
       "F-statistic: 7.878 on 7 and 10133 DF,  p-value: 1.482e-09\n"
      ]
     },
     "metadata": {},
     "output_type": "display_data"
    },
    {
     "name": "stdout",
     "output_type": "stream",
     "text": [
      "\u001b[32mTest passed\u001b[39m 🥇\n",
      "[1] \"Success!\"\n"
     ]
    }
   ],
   "source": [
    "SFS_data$rsq=rsq\n",
    "\n",
    "WT <- lm(rsq~ education + gender + education^2 + gender^2 + education*gender, data =SFS_data) # fill me in\n",
    "\n",
    "summary(WT)\n",
    "\n",
    "\n",
    "test_7() #test4\n"
   ]
  },
  {
   "cell_type": "markdown",
   "metadata": {},
   "source": [
    "### Short Answer 9\n",
    "\n",
    "<em>Prompt:</em> What does the white test suggest?"
   ]
  },
  {
   "cell_type": "markdown",
   "metadata": {
    "pycharm": {
     "name": "#%% md\n"
    }
   },
   "source": [
    "### Activity 3\n",
    "\n",
    "Finish filling in this table:\n",
    "\n",
    "<table>\n",
    "  <tr>\n",
    "     <th>Formal Issue Name</th>\n",
    "    <th>Problem</th>\n",
    "      <th>Meaning</th>\n",
    "      <th>Test</th>\n",
    "    <th>Solution</th>\n",
    "  </tr>\n",
    "  <tr>\n",
    "    <td>??? </td>\n",
    "    <td>Incorrect Standard errors, which can lead to incorrect confidence intervals etc</td>\n",
    "     <td>The distribution of residuals is not constant</td>\n",
    "      <td> White's Test and  Breusch-Pagan: bptest() (for the Breuusch-pagan test)</td>\n",
    "      <td>Add additional factors to regression or use robust standard errors</td>\n",
    "  </tr>\n",
    "      <tr>\n",
    "    <td>Perfect Collinearity </td>\n",
    "    <td>???</td>\n",
    "     <td>One variable in the regression is a linear function of another variable in the regression</td>\n",
    "      <td> Collinearity test on the model, ols_vif_tol(model) </td>\n",
    "      <td>???</td>\n",
    "  </tr>\n",
    "      <tr>\n",
    "    <td>Imperfect Collinearity </td>\n",
    "    <td>The model will have very large standard erros. R may need to omit a varible</td>\n",
    "     <td>One variable can almost be fully predict with a linear function of another variable in the model</td>\n",
    "      <td> ??? </td>\n",
    "      <td>Omit one of the co-linear variables, try using more data, another option is using a transformation(for instance taking logarithms).</td>\n",
    "  </tr>\n",
    "</table>\n",
    "\n",
    "\n"
   ]
  },
  {
   "cell_type": "markdown",
   "metadata": {
    "pycharm": {
     "name": "#%% md\n"
    }
   },
   "source": [
    "<span id=\"fn1\">[<sup>1</sup>](#fn1s)Provided under the Statistics Canada Open License.  Adapted from Statistics Canada, Statistics Canada Open License (Public)\n",
    "Adapted from Statistics Canada, 2021 Census Public Use Microdata File (PUMF). This does not constitute an endorsement by Statistics Canada of this product.</span>"
   ]
  }
 ],
 "metadata": {
  "kernelspec": {
   "display_name": "R",
   "language": "R",
   "name": "ir"
  },
  "language_info": {
   "codemirror_mode": "r",
   "file_extension": ".r",
   "mimetype": "text/x-r-source",
   "name": "R",
   "pygments_lexer": "r",
   "version": "4.1.1"
  }
 },
 "nbformat": 4,
 "nbformat_minor": 4
}
