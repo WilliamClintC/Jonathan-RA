{
 "cells": [
  {
   "cell_type": "markdown",
   "metadata": {
    "pycharm": {
     "name": "#%% md\n"
    },
    "tags": []
   },
   "source": [
    "# ECON 326: Introduction to Regression using R\n",
    "\n",
    "* **Authors**: COMET Team (Emrul Hasan, Jonah Heyl, Shiming Wu)\n",
    "* **Last Update**: 15 August 2022\n",
    "---\n",
    "\n",
    "## Outline\n",
    "\n",
    "### Prerequisites\n",
    "\n",
    "* Basic R and Jupyter skills\n",
    "* A theoretical understanding of simple linear relationship\n",
    "* An understanding of hypothesis testing\n",
    "* Types of variables (qualitative, quantitative)\n",
    "\n",
    "### Outcomes\n",
    "\n",
    "By the end of this notebook, you will be able to:\n",
    "* Learn how to run a simple linear regression using R\n",
    "* Create and understand regression outputs in R\n",
    "* Understand how to interpret coefficient estimates from simple linear regressions in terms of an econometric model\n",
    "* Examine the various elements of regression objects in R (including fitted values, residuals and coefficients)\n",
    "* Understand the relationship between $t$-tests and the estimates from simple linear regressions\n",
    "* Undertand the role of qualitative variables in regression analysis, with a particular emphasis on dummies\n",
    "* Explain how adding variables to a model changes the results\n",
    "\n",
    "Note that the data in this exercise is provided under the Statistics Canada Open License:\n",
    "> <span id=\"fn1\">[<sup>1</sup>](#fn1s)Statistics Canada, Survey of Financial Security, 2019, 2021. Reproduced and distributed on an \"as is\" basis with the permission of Statistics Canada.Adapted from Statistics Canada, Survey of Financial Security, 2019, 2021. This does not constitute an endorsement by Statistics Canada of this product.</span>\n"
   ]
  },
  {
   "cell_type": "code",
   "execution_count": 1,
   "metadata": {
    "collapsed": false,
    "jupyter": {
     "outputs_hidden": false
    },
    "pycharm": {
     "name": "#%%\n"
    },
    "vscode": {
     "languageId": "r"
    }
   },
   "outputs": [
    {
     "name": "stderr",
     "output_type": "stream",
     "text": [
      "── \u001b[1mAttaching packages\u001b[22m ─────────────────────────────────────── tidyverse 1.3.1 ──\n",
      "\n",
      "\u001b[32m✔\u001b[39m \u001b[34mggplot2\u001b[39m 3.3.6     \u001b[32m✔\u001b[39m \u001b[34mpurrr  \u001b[39m 0.3.4\n",
      "\u001b[32m✔\u001b[39m \u001b[34mtibble \u001b[39m 3.1.8     \u001b[32m✔\u001b[39m \u001b[34mdplyr  \u001b[39m 1.0.9\n",
      "\u001b[32m✔\u001b[39m \u001b[34mtidyr  \u001b[39m 1.2.0     \u001b[32m✔\u001b[39m \u001b[34mstringr\u001b[39m 1.4.0\n",
      "\u001b[32m✔\u001b[39m \u001b[34mreadr  \u001b[39m 2.1.2     \u001b[32m✔\u001b[39m \u001b[34mforcats\u001b[39m 0.5.1\n",
      "\n",
      "Warning message:\n",
      "“package ‘ggplot2’ was built under R version 4.1.3”\n",
      "Warning message:\n",
      "“package ‘tidyr’ was built under R version 4.1.2”\n",
      "Warning message:\n",
      "“package ‘readr’ was built under R version 4.1.2”\n",
      "Warning message:\n",
      "“package ‘dplyr’ was built under R version 4.1.3”\n",
      "── \u001b[1mConflicts\u001b[22m ────────────────────────────────────────── tidyverse_conflicts() ──\n",
      "\u001b[31m✖\u001b[39m \u001b[34mdplyr\u001b[39m::\u001b[32mfilter()\u001b[39m masks \u001b[34mstats\u001b[39m::filter()\n",
      "\u001b[31m✖\u001b[39m \u001b[34mdplyr\u001b[39m::\u001b[32mlag()\u001b[39m    masks \u001b[34mstats\u001b[39m::lag()\n",
      "\n",
      "Warning message:\n",
      "“package ‘haven’ was built under R version 4.1.3”\n",
      "Warning message:\n",
      "“package ‘testthat’ was built under R version 4.1.3”\n",
      "\n",
      "Attaching package: ‘testthat’\n",
      "\n",
      "\n",
      "The following object is masked from ‘package:dplyr’:\n",
      "\n",
      "    matches\n",
      "\n",
      "\n",
      "The following object is masked from ‘package:purrr’:\n",
      "\n",
      "    is_null\n",
      "\n",
      "\n",
      "The following objects are masked from ‘package:readr’:\n",
      "\n",
      "    edition_get, local_edition\n",
      "\n",
      "\n",
      "The following object is masked from ‘package:tidyr’:\n",
      "\n",
      "    matches\n",
      "\n",
      "\n"
     ]
    }
   ],
   "source": [
    "library(tidyverse)\n",
    "library(haven)\n",
    "library(dplyr)\n",
    "source(\"test2.r\")"
   ]
  },
  {
   "cell_type": "code",
   "execution_count": 2,
   "metadata": {
    "collapsed": false,
    "jupyter": {
     "outputs_hidden": false
    },
    "pycharm": {
     "name": "#%%\n"
    },
    "vscode": {
     "languageId": "r"
    }
   },
   "outputs": [],
   "source": [
    "SFS_data <- read_dta(\"../datasets/SFS_2019_Eng.dta\")  #this code is discussed in module 1\n",
    "\n",
    "SFS_data <- filter(SFS_data, !is.na(SFS_data$pefmtinc))\n",
    "SFS_data <- rename(SFS_data, income_before_tax = pefmtinc)\n",
    "SFS_data <- rename(SFS_data, income_after_tax = pefatinc)\n",
    "SFS_data <- rename(SFS_data, wealth = pwnetwpg)\n",
    "SFS_data <- rename(SFS_data, gender = pgdrmie)\n",
    "SFS_data <- rename(SFS_data, education = peducmie)\n",
    "\n",
    "SFS_data <- SFS_data[!(SFS_data$education==\"9\"),]\n",
    "SFS_data$education <- as.numeric(SFS_data$education)\n",
    "SFS_data <- SFS_data[order(SFS_data$education),]\n",
    "SFS_data$education <- as.character(SFS_data$education)\n",
    "SFS_data$education[SFS_data$education == \"1\"] <- \"Less than high school\"\n",
    "SFS_data$education[SFS_data$education == \"2\"] <- \"High school\"\n",
    "SFS_data$education[SFS_data$education == \"3\"] <- \"Non-university post-secondary\"\n",
    "SFS_data$education[SFS_data$education == \"4\"] <- \"University\"\n",
    "\n",
    "SFS_data$gender <- as_factor(SFS_data$gender)\n",
    "SFS_data$education <- as_factor(SFS_data$education)"
   ]
  },
  {
   "cell_type": "code",
   "execution_count": 3,
   "metadata": {
    "collapsed": false,
    "jupyter": {
     "outputs_hidden": false
    },
    "pycharm": {
     "name": "#%%\n"
    },
    "vscode": {
     "languageId": "r"
    }
   },
   "outputs": [
    {
     "data": {
      "text/html": [
       "'after-tax-income'"
      ],
      "text/latex": [
       "'after-tax-income'"
      ],
      "text/markdown": [
       "'after-tax-income'"
      ],
      "text/plain": [
       "[1] \"after-tax-income\""
      ]
     },
     "metadata": {},
     "output_type": "display_data"
    }
   ],
   "source": [
    "# If you want to know more about the variables, you can input the name in dictionary().\n",
    "# Sometimes you may need to compile 'source(\"test2.r\")' twice. This just creates a dictionary of our variables\n",
    "dictionary('pefatinc')"
   ]
  },
  {
   "cell_type": "markdown",
   "metadata": {
    "pycharm": {
     "name": "#%% md\n"
    }
   },
   "source": [
    "## Part 1: Learning About Regressions\n",
    "\n",
    "What is a regression?  What is the relationship of a regression to other statistical concepts?  How do we use regressions to answer economic questions?\n",
    "\n",
    "In this notebook, we will explore these questions using our SFS data from Module 1 and learn more about the gender wealth gap. If you remember from last module, we were interested in the wealth gap between male and female lead households.  \n",
    "\n",
    "We'll begin our analysis by exploring the relationship between wealth and income. Let's start off with a visualization:"
   ]
  },
  {
   "cell_type": "code",
   "execution_count": 5,
   "metadata": {
    "collapsed": false,
    "jupyter": {
     "outputs_hidden": false
    },
    "pycharm": {
     "name": "#%%\n"
    },
    "vscode": {
     "languageId": "r"
    }
   },
   "outputs": [
    {
     "name": "stderr",
     "output_type": "stream",
     "text": [
      "Saving 6.67 x 6.67 in image\n",
      "\n"
     ]
    },
    {
     "data": {
      "image/png": "[encoded data removed]",
      "text/plain": [
       "plot without title"
      ]
     },
     "metadata": {
      "image/png": {
       "height": 480,
       "width": 480
      }
     },
     "output_type": "display_data"
    }
   ],
   "source": [
    "options(repr.plot.width=8,repr.plot.height=8) #controls the image size\n",
    "f <- ggplot(data = SFS_data,xlim=c(0,2.4*10^6),ylim=c(0,3.4*10^7), aes(x = income_after_tax, y = wealth )) + #defines and labels our x and y.\n",
    "xlab(\"income_after_tax\") + \n",
    "ylab(\"wealth\")+scale_x_continuous()\n",
    "\n",
    "f + geom_point()\n",
    "\n"
   ]
  },
  {
   "cell_type": "markdown",
   "metadata": {
    "pycharm": {
     "name": "#%% md\n"
    }
   },
   "source": [
    "> _Think Deeper_: What do you see here?  Is there anything about this relationship that sticks out to you?  Why does it have the shape it does?\n",
    "\n",
    "You can probably tell that there is definitely some relationship between wages and after-tax income - but it can be difficult to visualize using a scatterplot alone.  There are far too many points to make out a discernable pattern or relationship here.  \n",
    "\n",
    "### Regression Models\n",
    "\n",
    "This is where a **regression model** comes in.  A regression model specifies the relationship between two variables.  For example, a linear relationship would be:\n",
    "\n",
    "$$ W_i = \\beta_0 + \\beta_1I_i$$\n",
    "\n",
    "Where $W_i$ is wealth of family $i$, and $I_i$ is their after-tax income.  In econometrics, we typically refer to $W_i$ as the **outcome** variable, and $I_i$ as the **explanatory** variable; you may have also heard the terms *dependent* and *independent* variables respectively, but these aren't actually very good descriptions of what these variables are in econometrics which is why we won't use them here.  \n",
    "\n",
    "A model like this is our description of what this relationship is - but it depends on two unknowns: $\\beta_0$, $\\beta_1$. \n",
    "\n",
    "* $\\beta_0$ and $\\beta_1$ are **parameters** of the model: they are numbers that determine the relationship (intercept and slope, respectively) between $W_i$ and $I_i$ \n",
    "* This is a _linear_ relationship because the model we have specified uses coefficients that are characteristic of linear model formulas - note that there are many other kinds of models beyond the linear type seen here.\n",
    "\n",
    "It is unlikely, if not impossible, for the relationship we observe here to completely explain everything about our data.  We also need to include a term which captures everything that is _not_ described by the relationship we described in the model.  This is called the *residual* term (meaning \"leftover\").\n",
    "\n",
    "* The $\\epsilon_i$ is the **residual**: it is a component that corresponds to the part of the data which is _not_ described by the model\n",
    "* Residual terms will usually have certain assumed properties that allow us to estimate the model\n",
    "\n",
    "Conceptually, you can think about a regression as two parts: the part of the relationship explained by your model ($W_i = \\beta_0 + \\beta_1 I_i$) and the part which is not explained ($\\epsilon_i$).  The process of \"fitting\" or estimating a regression model refers to finding values for $\\beta_0$ and $\\beta_1$ such that as little as possible of the model is explained by the residual term.  We write the complete regression equation by combining the two parts of the model:\n",
    "\n",
    "$$W_i = \\beta_0 + \\beta_1 I_i + \\epsilon_i$$\n",
    "\n",
    "The goal of regression analysis is to:\n",
    "\n",
    "1. Estimate this equation (and especially the model parameters) as accurately as possible.\n",
    "2. Learn about the relationship between $W_i$ and $I_i$ from the results of that estimation\n",
    "\n",
    "There are many ways to define \"as accurately as possible\" and similarly there are many ways to \"estimate\" the equation.  In this course, we use *ordinary least squares* (OLS) as our estimation method which can be understood as the following:\n",
    "\n",
    "$$(\\hat{\\beta_0},\\hat{\\beta_1}) = \\arg \\min_{b_0,b_1} \\sum_{i=1}^{n} (M_i - b_0 - b_1 W_i)^2 =\\arg \\min_{b_0,b_1} \\sum_{i=1}^{n} (e_i)^2$$\n",
    "\n",
    "It is just the calculus way of writing \"choose $\\beta_0$ and $\\beta_1$ (call them $\\hat{\\beta_0},\\hat{\\beta_1}$) such that they minimize the sum of the squared residuals\". Ultimately, the goal of doing a regression is to explain as much as possible using the parameters ($\\beta_0, \\beta_1$) and as little as possible using $\\epsilon_i$. Through this equation, we have transformed our statistical problem into a calculus problem, one that can can be solved, for example, by taking derivatives.\n",
    "\n",
    "There are many, many ways to solve this estimation problem - most of which are built into R. Before getting into how we can estimate using R commands, we'll discuss on how we can estimate manually.\n",
    "\n",
    "### Example: Manual Estimation\n",
    "\n",
    "If we think about the residuals as a gauge of error in our model (remember we want to think about the error in absolute terms, we can look at the scatterplot and guess how the model might perform based on how small or large the residuals are from the regression line. As you can probably imagine, this is not the most efficient nor the most accurate way to solve our estimate problem! \n",
    "\n",
    "Try to get the best fit you can by playing around with the following example.\n"
   ]
  },
  {
   "cell_type": "code",
   "execution_count": 49,
   "metadata": {
    "collapsed": false,
    "jupyter": {
     "outputs_hidden": false
    },
    "pycharm": {
     "name": "#%%\n"
    },
    "vscode": {
     "languageId": "r"
    }
   },
   "outputs": [
    {
     "name": "stdout",
     "output_type": "stream",
     "text": [
      "[1] \"Your SSE is now, 24365382413 , How low can you go?\"\n"
     ]
    },
    {
     "data": {
      "image/png": "[encoded data removed]",
      "text/plain": [
       "plot without title"
      ]
     },
     "metadata": {
      "image/png": {
       "height": 480,
       "width": 600
      }
     },
     "output_type": "display_data"
    }
   ],
   "source": [
    "#set the value of B_0 and B_1 with these values\n",
    "\n",
    "B_0 = 200000  #change me\n",
    "B_1 =10  #change me\n",
    "\n",
    "# don't touch the rest of this code - but see if you can understand it!\n",
    "SSE = sum((SFS_data$wealth - B_0 - B_1*SFS_data$income_after_tax)^2) #sum of our squared errors\n",
    "\n",
    "SSE_rounded=round(SSE/1000000,0) \n",
    "print(paste(\"Your SSE is now,\", SSE_rounded,\", How low can you go?\")) #prints our SSE value\n",
    "\n",
    "options(repr.plot.width=10,repr.plot.height=8) #controls the image size\n",
    "\n",
    "fitted_line = data.frame(income_before_tax = SFS_data$income_before_tax, wealth = B_0 + B_1*SFS_data$income_before_tax) #makes the regression line\n",
    "\n",
    "f <- ggplot(data = SFS_data, aes(x = income_before_tax, y = wealth),xlim=c(0,3*10^6),ylim=c(0,3*10^7)) + xlab(\"before tax income\") + ylab(\"wealth\")+scale_x_continuous() \n",
    "f <- f + geom_point() + geom_line(color = \"#330974\", data = fitted_line) #style preferences\n",
    "\n",
    "f #prints our graph with the line"
   ]
  },
  {
   "cell_type": "markdown",
   "metadata": {},
   "source": [
    "As we change our $\\beta_0, \\beta_1$, notice how the best fit line changes as well. The closer we fit our line to the data the lower SSE we have"
   ]
  },
  {
   "cell_type": "markdown",
   "metadata": {
    "pycharm": {
     "name": "#%% md\n"
    }
   },
   "source": [
    "### Simple Regressions in R\n",
    "\n",
    "Now, let's see how we could use a regression in R to do this.  Regression models look like: `Y ~ X` (the `~` symbol is called \"tilde\" FYI).\n",
    "\n",
    "> For now you can ignore the residual terms and parameters when writing the model in R - just focus on the variables.\n",
    "\n",
    "So, for example, our regression model is \n",
    "\n",
    "$$W_i = \\beta_0 + \\beta_1 I_i + \\epsilon_i$$\n",
    "\n",
    "Which can be written in R as\n",
    "\n",
    "`wealth ~ income_before_tax`\n",
    "\n",
    "Regressions are estimated in R using the `lm` command, which contains an argument to specify the dataset. This creates a **linear model object**, which can be used to calculate things (through prediction) or perform tests. It also stores all of the information about the model, such as the coefficient and fit. The model generated using the lm() command can also be printed and summarized to give important basic information about a regression.\n",
    "\n",
    "Below are a few of the most important elements of a linear model. Let's say, for example, that we called the model ``my_model.``\n",
    "\n",
    "* ``my_model$coefficients``: gives us the parameter coefficients\n",
    "* ``my_model$residuals``: gives us the residuals\n",
    "* ``my_model$fitted.values``: gives us the predicted values\n",
    "\n",
    "Enough talk! Let's see our model in action here.\n"
   ]
  },
  {
   "cell_type": "code",
   "execution_count": 51,
   "metadata": {
    "collapsed": false,
    "jupyter": {
     "outputs_hidden": false
    },
    "pycharm": {
     "name": "#%%\n"
    },
    "vscode": {
     "languageId": "r"
    }
   },
   "outputs": [
    {
     "data": {
      "text/plain": [
       "\n",
       "Call:\n",
       "lm(formula = wealth ~ income_after_tax, data = SFS_data)\n",
       "\n",
       "Residuals:\n",
       "      Min        1Q    Median        3Q       Max \n",
       "-14611481   -625666   -313522    180252  27722234 \n",
       "\n",
       "Coefficients:\n",
       "                  Estimate Std. Error t value Pr(>|t|)    \n",
       "(Intercept)      1.698e+05  2.253e+04   7.536 5.25e-14 ***\n",
       "income_after_tax 9.964e+00  1.897e-01  52.530  < 2e-16 ***\n",
       "---\n",
       "Signif. codes:  0 ‘***’ 0.001 ‘**’ 0.01 ‘*’ 0.05 ‘.’ 0.1 ‘ ’ 1\n",
       "\n",
       "Residual standard error: 1550000 on 10139 degrees of freedom\n",
       "Multiple R-squared:  0.2139,\tAdjusted R-squared:  0.2139 \n",
       "F-statistic:  2759 on 1 and 10139 DF,  p-value: < 2.2e-16\n"
      ]
     },
     "metadata": {},
     "output_type": "display_data"
    },
    {
     "data": {
      "text/html": [
       "<style>\n",
       ".dl-inline {width: auto; margin:0; padding: 0}\n",
       ".dl-inline>dt, .dl-inline>dd {float: none; width: auto; display: inline-block}\n",
       ".dl-inline>dt::after {content: \":\\0020\"; padding-right: .5ex}\n",
       ".dl-inline>dt:not(:first-of-type) {padding-left: .5ex}\n",
       "</style><dl class=dl-inline><dt>(Intercept)</dt><dd>169826.166717849</dd><dt>income_after_tax</dt><dd>9.96402283975796</dd></dl>\n"
      ],
      "text/latex": [
       "\\begin{description*}\n",
       "\\item[(Intercept)] 169826.166717849\n",
       "\\item[income\\textbackslash{}\\_after\\textbackslash{}\\_tax] 9.96402283975796\n",
       "\\end{description*}\n"
      ],
      "text/markdown": [
       "(Intercept)\n",
       ":   169826.166717849income_after_tax\n",
       ":   9.96402283975796\n",
       "\n"
      ],
      "text/plain": [
       "     (Intercept) income_after_tax \n",
       "    1.698262e+05     9.964023e+00 "
      ]
     },
     "metadata": {},
     "output_type": "display_data"
    }
   ],
   "source": [
    "regression1 = lm(wealth ~ income_after_tax, data = SFS_data) # take note this is very important!\n",
    "\n",
    "summary(regression1)\n",
    " \n",
    "head(regression1$coefficients)"
   ]
  },
  {
   "cell_type": "markdown",
   "metadata": {
    "pycharm": {
     "name": "#%% md\n"
    }
   },
   "source": [
    "Take a close look at the results.  Identify the following elements:\n",
    "\n",
    "* The values of the parameters\n",
    "* The standard errors of the parameters\n",
    "* The %-of the data explained by the model\n",
    "\n",
    "> **Test Your Knowledge**: What  %-of the variance in wealth is explained by the model?  \n",
    "Write the percentage in _decimal form_ and include all decimals given by the model (example, x.xxx - where x are numbers)"
   ]
  },
  {
   "cell_type": "code",
   "execution_count": 53,
   "metadata": {
    "collapsed": false,
    "jupyter": {
     "outputs_hidden": false
    },
    "pycharm": {
     "name": "#%%\n"
    },
    "vscode": {
     "languageId": "r"
    }
   },
   "outputs": [
    {
     "name": "stdout",
     "output_type": "stream",
     "text": [
      "\u001b[32mTest passed\u001b[39m 🥇\n",
      "[1] \"Success!\"\n"
     ]
    }
   ],
   "source": [
    "answer1 <- 0.2139   #answer goes here\n",
    "answer1=round(answer1,2)\n",
    "test_1()"
   ]
  },
  {
   "cell_type": "markdown",
   "metadata": {
    "pycharm": {
     "name": "#%% md\n"
    }
   },
   "source": [
    "The underlying model and the parameters tells us about the relationship between the different values:\n",
    "\n",
    "$$W_i = 169826.16 + 9.96 I_i + \\epsilon_i$$\n",
    "\n",
    "Notice, for example:\n",
    "\n",
    "$$\\frac{\\partial W_i}{\\partial I_i} = \\beta_1 = 9.96$$\n",
    "\n",
    "In other words, when incomes goes up by 1 dollar, we would expect that the wealth accumulated for this given family will rise by 9.96 dollars. This kind of analysis is key to interpreting what this model is telling us.\n",
    "\n",
    "Finally, let's visualize our fitted model on the scatterplot from before.  How does it compare to your original model?"
   ]
  },
  {
   "cell_type": "code",
   "execution_count": 55,
   "metadata": {
    "collapsed": false,
    "jupyter": {
     "outputs_hidden": false
    },
    "pycharm": {
     "name": "#%%\n"
    },
    "vscode": {
     "languageId": "r"
    }
   },
   "outputs": [
    {
     "data": {
      "image/png": "[encoded data removed]",
      "text/plain": [
       "plot without title"
      ]
     },
     "metadata": {
      "image/png": {
       "height": 480,
       "width": 600
      }
     },
     "output_type": "display_data"
    }
   ],
   "source": [
    "options(repr.plot.width=10,repr.plot.height=8) #style preferences\n",
    "\n",
    "fitted_line2 = data.frame( income_before_tax = SFS_data$income_before_tax, wealth = regression1$fitted.values)#this is our blue fitted line\n",
    "\n",
    "f <- ggplot(data = SFS_data, aes(x = income_before_tax, y = wealth)) + xlab(\"Wealth\") + ylab(\"Income before tax\")+scale_x_continuous() #defines our x and y\n",
    "f <- f + geom_point() + geom_line(color = \"#ff0000\", data = fitted_line) + geom_line(color = \"#070069\", data = fitted_line2) #style preferences\n",
    "\n",
    "f #prints  graph"
   ]
  },
  {
   "cell_type": "markdown",
   "metadata": {
    "pycharm": {
     "name": "#%% md\n"
    }
   },
   "source": [
    "As you can see - there's a very close relationship between `after_tax_income` and `wealth`. The red line is a regression line of wealth and after_tax_income, whereas the blue line is the fitted values.\n",
    "\n",
    "Notice as well we have negative values? Negative income and negative wealth is weird. We will deal with this later. \n",
    "\n",
    "## Part 2: Simple Regressions and $t$-Tests\n",
    "\n",
    "What if we wanted to work with a qualitative variable like `gender`?\n",
    "\n",
    "Regression models can still incorporate this kind of variable - which is good, because (as the Census makes clear) this is the most common type of variable in real-world data.  How is this possible?  \n",
    "\n",
    "Let's start out with the simplest kind of qualitative variable: a **dummy** (0 or 1) variable. Let's use Male = $0$ and Female = $1$. Consider the regression equation:\n",
    "\n",
    "$$W_i = \\beta_0 + \\beta_1 G_i + \\epsilon_i ~, \\text{where}\\ G_i \\ \\text{is Gender}$$\n",
    "\n",
    "Consider the conditional expectation:\n",
    "\n",
    "$$E[W_i|G_i = \\text{Male}] = \\beta_0 + \\beta_1 \\cdot 1 + \\epsilon_i$$\n",
    "\n",
    "$$E[W_i|G_i = \\text{Female}] = \\beta_0 + \\beta_1 \\cdot 0 + \\epsilon_i$$\n",
    "\n",
    "By the OLS reggression assumptions, we have that $E[\\epsilon_i|G_i] = 0 $, so: \n",
    "\n",
    "$$E[W_i|G_i = \\text{Female}] = \\beta_0 + \\beta_1$$\n",
    "\n",
    "$$E[W_i|G_i = \\text{Male}] = \\beta_0$$\n",
    "\n",
    "Combining these two expressions:\n",
    "\n",
    "$$\\beta_1 = E[W_i|G_i = \\text{Female}] - E[W_i|G_i = \\text{Male}] = \\beta_1-\\beta_0$$\n",
    "\n",
    "What this tells us:\n",
    "\n",
    "1.  We can include **dummy** variables in regressions just like quantitative variables\n",
    "2.  The coefficients on the dummy variable have meaning in terms of the regression model\n",
    "3.  The coefficients measure the (average) difference in the dependent variable between the two levels of the dummy variable\n",
    "\n",
    "We can estimate this relationship of gender and wealth using R. As we investigate the wealth gap between male and female lead households, we might expect to see a negative sign on the coefficient - that is, if we anticipate that female lead households will have less wealth than male lead households."
   ]
  },
  {
   "cell_type": "code",
   "execution_count": 56,
   "metadata": {
    "collapsed": false,
    "jupyter": {
     "outputs_hidden": false
    },
    "pycharm": {
     "name": "#%%\n"
    },
    "vscode": {
     "languageId": "r"
    }
   },
   "outputs": [
    {
     "data": {
      "text/plain": [
       "\n",
       "Call:\n",
       "lm(formula = wealth ~ gender, data = SFS_data)\n",
       "\n",
       "Residuals:\n",
       "     Min       1Q   Median       3Q      Max \n",
       "-2003534  -882034  -510429   239866 28926966 \n",
       "\n",
       "Coefficients:\n",
       "             Estimate Std. Error t value Pr(>|t|)    \n",
       "(Intercept)   1128034      22315  50.551  < 2e-16 ***\n",
       "genderFemale  -235286      35394  -6.648 3.13e-11 ***\n",
       "---\n",
       "Signif. codes:  0 ‘***’ 0.001 ‘**’ 0.01 ‘*’ 0.05 ‘.’ 0.1 ‘ ’ 1\n",
       "\n",
       "Residual standard error: 1744000 on 10139 degrees of freedom\n",
       "Multiple R-squared:  0.00434,\tAdjusted R-squared:  0.004241 \n",
       "F-statistic: 44.19 on 1 and 10139 DF,  p-value: 3.131e-11\n"
      ]
     },
     "metadata": {},
     "output_type": "display_data"
    }
   ],
   "source": [
    "regression2 <- lm(wealth ~ gender, data = SFS_data)\n",
    "\n",
    "summary(regression2)"
   ]
  },
  {
   "cell_type": "markdown",
   "metadata": {
    "pycharm": {
     "name": "#%% md\n"
    }
   },
   "source": [
    "What do you see here?\n",
    "\n",
    "> **Test Your Knowledge**:  What is the difference in average wealth between male and female lead households?"
   ]
  },
  {
   "cell_type": "code",
   "execution_count": 58,
   "metadata": {
    "collapsed": false,
    "jupyter": {
     "outputs_hidden": false
    },
    "pycharm": {
     "name": "#%%\n"
    },
    "vscode": {
     "languageId": "r"
    }
   },
   "outputs": [
    {
     "name": "stdout",
     "output_type": "stream",
     "text": [
      "\u001b[32mTest passed\u001b[39m 🥇\n",
      "[1] \"Success!\"\n"
     ]
    }
   ],
   "source": [
    "# input the answer (to 1 decimal place, don't forget to add a negative sign, if relevant)\n",
    "answer2 <- -235286       # your answer here\n",
    "answer2=round(answer2,2)\n",
    "test_2()"
   ]
  },
  {
   "cell_type": "markdown",
   "metadata": {
    "pycharm": {
     "name": "#%% md\n"
    }
   },
   "source": [
    "The number  might seem familiar if you remember what we learned about a $t$-test from earlier.  Remember this result?"
   ]
  },
  {
   "cell_type": "code",
   "execution_count": 61,
   "metadata": {
    "collapsed": false,
    "jupyter": {
     "outputs_hidden": false
    },
    "pycharm": {
     "name": "#%%\n"
    },
    "vscode": {
     "languageId": "r"
    }
   },
   "outputs": [
    {
     "data": {
      "text/plain": [
       "\n",
       "\tWelch Two Sample t-test\n",
       "\n",
       "data:  filter(SFS_data, gender == \"Male\")$wealth and filter(SFS_data, gender == \"Female\")$wealth\n",
       "t = 6.9324, df = 9710.4, p-value = 4.401e-12\n",
       "alternative hypothesis: true difference in means is not equal to 0\n",
       "95 percent confidence interval:\n",
       " 168756.2 301815.0\n",
       "sample estimates:\n",
       "mean of x mean of y \n",
       "1128033.5  892747.9 \n"
      ]
     },
     "metadata": {},
     "output_type": "display_data"
    },
    {
     "data": {
      "text/html": [
       "<strong>mean of x:</strong> 235285.595522589"
      ],
      "text/latex": [
       "\\textbf{mean of x:} 235285.595522589"
      ],
      "text/markdown": [
       "**mean of x:** 235285.595522589"
      ],
      "text/plain": [
       "mean of x \n",
       " 235285.6 "
      ]
     },
     "metadata": {},
     "output_type": "display_data"
    }
   ],
   "source": [
    "t1 = t.test(\n",
    "       x = filter(SFS_data, gender == \"Male\")$wealth,\n",
    "       y = filter(SFS_data, gender == \"Female\")$wealth,\n",
    "       alternative = \"two.sided\",\n",
    "       mu = 0,\n",
    "       conf.level = 0.95)\n",
    "\n",
    "t1 \n",
    "\n",
    "t1$estimate[1] - t1$estimate[2]"
   ]
  },
  {
   "cell_type": "markdown",
   "metadata": {
    "pycharm": {
     "name": "#%% md\n"
    }
   },
   "source": [
    "Look closely at this result, and the result above.  What do you see?  What is the relationship here?\n",
    "\n",
    "This is a very important result because a dummy variable regression is an example a two sample comparison.  Why is this?  Recall:\n",
    "\n",
    "$$\\beta_1 = E[W_i|G_i = \\text{Female}] - E[W_i|G_i = \\text{Male}]$$\n",
    "\n",
    "The regression coefficient of $\\beta_1$ can be interpreted as a comparison of two means.  This is exactly the same as what the $t$-test is doing. Comparing two means by different groups - groups which are specified by $G_i = \\text{Male}$  or $G_i = \\text{Female}$.\n",
    "\n",
    "In other words, another way of thinking about a regression is as a `super` comparison of means test. However, regressions can handle analysis using qualitative (dummy) variables as a well as quantitative variables, which regular comparison of means tests cannot handle.\n",
    "\n",
    "### Multiple Levels\n",
    "\n",
    "Okay, but what if you have a qualitative variable that takes on _more_ than two levels?  For example, the `education` variable includes four different education classes."
   ]
  },
  {
   "cell_type": "code",
   "execution_count": 63,
   "metadata": {
    "collapsed": false,
    "jupyter": {
     "outputs_hidden": false
    },
    "pycharm": {
     "name": "#%%\n"
    },
    "vscode": {
     "languageId": "r"
    }
   },
   "outputs": [
    {
     "data": {
      "text/html": [
       "<table class=\"dataframe\">\n",
       "<caption>A tibble: 4 × 2</caption>\n",
       "<thead>\n",
       "\t<tr><th scope=col>education</th><th scope=col>number_of_observations</th></tr>\n",
       "\t<tr><th scope=col>&lt;fct&gt;</th><th scope=col>&lt;int&gt;</th></tr>\n",
       "</thead>\n",
       "<tbody>\n",
       "\t<tr><td>Less than high school        </td><td>1216</td></tr>\n",
       "\t<tr><td>High school                  </td><td>2279</td></tr>\n",
       "\t<tr><td>Non-university post-secondary</td><td>2819</td></tr>\n",
       "\t<tr><td>University                   </td><td>3827</td></tr>\n",
       "</tbody>\n",
       "</table>\n"
      ],
      "text/latex": [
       "A tibble: 4 × 2\n",
       "\\begin{tabular}{ll}\n",
       " education & number\\_of\\_observations\\\\\n",
       " <fct> & <int>\\\\\n",
       "\\hline\n",
       "\t Less than high school         & 1216\\\\\n",
       "\t High school                   & 2279\\\\\n",
       "\t Non-university post-secondary & 2819\\\\\n",
       "\t University                    & 3827\\\\\n",
       "\\end{tabular}\n"
      ],
      "text/markdown": [
       "\n",
       "A tibble: 4 × 2\n",
       "\n",
       "| education &lt;fct&gt; | number_of_observations &lt;int&gt; |\n",
       "|---|---|\n",
       "| Less than high school         | 1216 |\n",
       "| High school                   | 2279 |\n",
       "| Non-university post-secondary | 2819 |\n",
       "| University                    | 3827 |\n",
       "\n"
      ],
      "text/plain": [
       "  education                     number_of_observations\n",
       "1 Less than high school         1216                  \n",
       "2 High school                   2279                  \n",
       "3 Non-university post-secondary 2819                  \n",
       "4 University                    3827                  "
      ]
     },
     "metadata": {},
     "output_type": "display_data"
    }
   ],
   "source": [
    "SFS_data %>%\n",
    "group_by(education) %>%\n",
    "summarize(number_of_observations = n())"
   ]
  },
  {
   "cell_type": "markdown",
   "metadata": {
    "pycharm": {
     "name": "#%% md\n"
    }
   },
   "source": [
    "In this case, the idea is that you can replace a qualitative variable by a *set of dummies*. Consider the following set of variables:\n",
    "\n",
    "* `d_1`: Is highest education less than high school? (Yes/No)\n",
    "* `d_2`: Is highest education high school? (Yes/No)\n",
    "* `d_3`: Is highest education non-university post-secondary? (Yes/No)\n",
    "* `d_4`: Is highest education university? (Yes/No)\n",
    "\n",
    "These four dummy variables capture the same information as the qualitative variable `education`. In other words, if we were told the value of `education` we could discern which of these dummies were `Yes` or `No`, and vice-versa.  In fact, if wetake a closer look, we'll notice that we actually only need three of the four to figure our the value of `education`.  For example, if I told you that `d_4`, `d_3`, `d_2` were all \"No\", what would the value of `education` be?\n",
    "\n",
    "In other words, one of the dummies is redundant in helping us understand the qualitative variable. This property is important; we usually will omit one possible dummy to include only the minimum number of variables needed to explain the qualitative variable in question. This omitted dummy is called the **base level**. If we forget about this and still add 4 dummy variables, we would be committing a dummy variable trap.  \n",
    "\n",
    "* Which one should be the base level?  It doesn't matter, from a technical perspective. \n",
    "\n",
    "> **Test Your Knowledge**: suppose you have a qualitative variable with $k$ distinct levels. What is the minimum number of *possible* ways to represent a set of dummies if you don't want to include any redundant variables?\n",
    "\n",
    "* **A**: $k$\n",
    "* **B**: $k-1$\n",
    "* **C**: $k+1$\n",
    "* **D**: $k^2$"
   ]
  },
  {
   "cell_type": "code",
   "execution_count": 73,
   "metadata": {
    "collapsed": false,
    "jupyter": {
     "outputs_hidden": false
    },
    "pycharm": {
     "name": "#%%\n"
    },
    "vscode": {
     "languageId": "r"
    }
   },
   "outputs": [
    {
     "name": "stdout",
     "output_type": "stream",
     "text": [
      "[1] \"B\"\n",
      "\u001b[32mTest passed\u001b[39m 😀\n",
      "[1] \"Success!\"\n"
     ]
    }
   ],
   "source": [
    " source(\"test2.r\")\n",
    "\n",
    "answer2.5 <- \"b\" # type in your answer here \n",
    "answer2.5_caps=  toupper(answer2.5)\n",
    "print(answer2.5_caps)\n",
    "test_2.5()"
   ]
  },
  {
   "cell_type": "markdown",
   "metadata": {
    "pycharm": {
     "name": "#%% md\n"
    }
   },
   "source": [
    "In general, in R, most commands will automatically handle this process of creating dummies from qualitative variables. As you saw with the simple regression, R created them for you. You can also create dummies using a variety of commands, if necessary - but in general, if you tell R that your variables are factors, it will automatically handle the creation of dummies properly.\n",
    "\n",
    "Technically, the example above which includes multiple variables is called a **multiple regression** model, which we haven't covered yet.\n",
    "\n",
    "Let's explore regression some more, in the following series of exercises."
   ]
  },
  {
   "cell_type": "markdown",
   "metadata": {
    "pycharm": {
     "name": "#%% md\n"
    }
   },
   "source": [
    "## Part 3: Exercises"
   ]
  },
  {
   "cell_type": "markdown",
   "metadata": {
    "pycharm": {
     "name": "#%% md\n"
    }
   },
   "source": [
    "### Activity 1\n",
    "Last week, we briefly explored the idea of the wealth gap and explored the idea that it could be caused by some income related factors. We can now examine this issue directly using regressions. Run a regression with * before tax income * on male and female lead households.\n",
    "\n",
    "<em>Tested objects:</em> ``regm`` (the regression for males).<em>Tested objects:</em> ``regm`` (the regression for females)."
   ]
  },
  {
   "cell_type": "code",
   "execution_count": 78,
   "metadata": {
    "collapsed": false,
    "jupyter": {
     "outputs_hidden": false
    },
    "pycharm": {
     "name": "#%%\n"
    },
    "vscode": {
     "languageId": "r"
    }
   },
   "outputs": [
    {
     "data": {
      "text/plain": [
       "\n",
       "Call:\n",
       "lm(formula = wealth ~ income_before_tax, data = filter(SFS_data, \n",
       "    gender == \"Male\"))\n",
       "\n",
       "Residuals:\n",
       "      Min        1Q    Median        3Q       Max \n",
       "-16443704   -719054   -431672    223430  27934239 \n",
       "\n",
       "Coefficients:\n",
       "                   Estimate Std. Error t value Pr(>|t|)    \n",
       "(Intercept)       5.248e+05  2.745e+04   19.12   <2e-16 ***\n",
       "income_before_tax 5.503e+00  1.523e-01   36.12   <2e-16 ***\n",
       "---\n",
       "Signif. codes:  0 ‘***’ 0.001 ‘**’ 0.01 ‘*’ 0.05 ‘.’ 0.1 ‘ ’ 1\n",
       "\n",
       "Residual standard error: 1702000 on 6108 degrees of freedom\n",
       "Multiple R-squared:  0.176,\tAdjusted R-squared:  0.1759 \n",
       "F-statistic:  1305 on 1 and 6108 DF,  p-value: < 2.2e-16\n"
      ]
     },
     "metadata": {},
     "output_type": "display_data"
    },
    {
     "data": {
      "text/plain": [
       "\n",
       "Call:\n",
       "lm(formula = wealth ~ income_before_tax, data = filter(SFS_data, \n",
       "    gender == \"Female\"))\n",
       "\n",
       "Residuals:\n",
       "     Min       1Q   Median       3Q      Max \n",
       "-5704141  -518359  -181780   212014 17772334 \n",
       "\n",
       "Coefficients:\n",
       "                   Estimate Std. Error t value Pr(>|t|)    \n",
       "(Intercept)       1.815e+05  2.606e+04   6.964 3.85e-12 ***\n",
       "income_before_tax 9.450e+00  2.226e-01  42.446  < 2e-16 ***\n",
       "---\n",
       "Signif. codes:  0 ‘***’ 0.001 ‘**’ 0.01 ‘*’ 0.05 ‘.’ 0.1 ‘ ’ 1\n",
       "\n",
       "Residual standard error: 1267000 on 4029 degrees of freedom\n",
       "Multiple R-squared:  0.309,\tAdjusted R-squared:  0.3088 \n",
       "F-statistic:  1802 on 1 and 4029 DF,  p-value: < 2.2e-16\n"
      ]
     },
     "metadata": {},
     "output_type": "display_data"
    },
    {
     "name": "stdout",
     "output_type": "stream",
     "text": [
      "\u001b[32mTest passed\u001b[39m 🎊\n",
      "[1] \"Success!\"\n",
      "\u001b[32mTest passed\u001b[39m 🥳\n",
      "[1] \"Success!\"\n"
     ]
    }
   ],
   "source": [
    "# Quiz 1\n",
    "\n",
    "# Regression for males\n",
    "regm <- lm(wealth ~ income_before_tax, filter(SFS_data, gender == \"Male\")) # Replace \"...\" with the appropriate variables \n",
    "#remember answers are case sensitive!\n",
    "\n",
    "# Quiz 2\n",
    "# Regression for females\n",
    "regf <- lm(wealth ~ income_before_tax, data = filter(SFS_data, gender == \"Female\")) #remember answers are case sensitive!\n",
    "\n",
    "summary(regm) # Allow us to view regm's coefficient estimates\n",
    "summary(regf) # Same as above, but for regf\n",
    "\n",
    "test_3() # Quiz1\n",
    "test_4() # Quiz2"
   ]
  },
  {
   "cell_type": "markdown",
   "metadata": {
    "pycharm": {
     "name": "#%% md\n"
    }
   },
   "source": [
    "#### Short Answer 1\n",
    "**Prompt:** How do we interpret the coefficient estimate on ``income`` in each of these regressions?"
   ]
  },
  {
   "cell_type": "markdown",
   "metadata": {
    "pycharm": {
     "name": "#%% md\n"
    }
   },
   "source": [
    "<font style=\"color:red\">Answer in red here!</font>\n"
   ]
  },
  {
   "cell_type": "markdown",
   "metadata": {
    "pycharm": {
     "name": "#%% md\n"
    }
   },
   "source": [
    "### Activity 2\n",
    "\n",
    "We might think that income inequality between females and males might depend on the educational gaps between these two groups. In this activity, we will explore how the income gap varies by education. First, let's see the factor levels of the `education`:"
   ]
  },
  {
   "cell_type": "code",
   "execution_count": 80,
   "metadata": {
    "collapsed": false,
    "jupyter": {
     "outputs_hidden": false
    },
    "pycharm": {
     "name": "#%%\n"
    },
    "vscode": {
     "languageId": "r"
    }
   },
   "outputs": [
    {
     "data": {
      "text/html": [
       "<style>\n",
       ".list-inline {list-style: none; margin:0; padding: 0}\n",
       ".list-inline>li {display: inline-block}\n",
       ".list-inline>li:not(:last-child)::after {content: \"\\00b7\"; padding: 0 .5ex}\n",
       "</style>\n",
       "<ol class=list-inline><li>'Less than high school'</li><li>'High school'</li><li>'Non-university post-secondary'</li><li>'University'</li></ol>\n"
      ],
      "text/latex": [
       "\\begin{enumerate*}\n",
       "\\item 'Less than high school'\n",
       "\\item 'High school'\n",
       "\\item 'Non-university post-secondary'\n",
       "\\item 'University'\n",
       "\\end{enumerate*}\n"
      ],
      "text/markdown": [
       "1. 'Less than high school'\n",
       "2. 'High school'\n",
       "3. 'Non-university post-secondary'\n",
       "4. 'University'\n",
       "\n",
       "\n"
      ],
      "text/plain": [
       "[1] \"Less than high school\"         \"High school\"                  \n",
       "[3] \"Non-university post-secondary\" \"University\"                   "
      ]
     },
     "metadata": {},
     "output_type": "display_data"
    }
   ],
   "source": [
    "levels(SFS_data$education) # Run this"
   ]
  },
  {
   "cell_type": "markdown",
   "metadata": {
    "pycharm": {
     "name": "#%% md\n"
    }
   },
   "source": [
    "As we can see, there are a few education groups in this dataframe. Let's estimate the income gap (with no controls) for each of the four groups separately:\n",
    "\n",
    "* Less than high school\n",
    "* High school\n",
    "* Non-university post-secondary\n",
    "* University\n",
    "\n",
    "<em>Tested objects:</em> ``rege2`` (High School), ``rege4`` (University)\n",
    "\n",
    "Notice we don't need to do 4 regressions we could just do three.\n",
    "\n"
   ]
  },
  {
   "cell_type": "code",
   "execution_count": 107,
   "metadata": {
    "collapsed": false,
    "jupyter": {
     "outputs_hidden": false
    },
    "pycharm": {
     "name": "#%%\n"
    },
    "vscode": {
     "languageId": "r"
    }
   },
   "outputs": [
    {
     "name": "stdout",
     "output_type": "stream",
     "text": [
      "\u001b[32mTest passed\u001b[39m 🌈\n",
      "[1] \"Success!\"\n",
      "\u001b[32mTest passed\u001b[39m 🥳\n",
      "[1] \"Success!\"\n",
      "\u001b[32mTest passed\u001b[39m 🥳\n",
      "[1] \"Success!\"\n",
      "\u001b[32mTest passed\u001b[39m 😀\n",
      "[1] \"Success!\"\n"
     ]
    }
   ],
   "source": [
    " source(\"test2.r\")\n",
    "\n",
    "#rege1 is a reggression performed on people, with a less than high scchool education\n",
    "rege1 <- lm(income_before_tax ~gender, data = filter(SFS_data, education == \"Less than high school\")) #what should replace the ...\n",
    "#rege2 is the same as rege1,but we are looking at people with a high school education\n",
    "rege2 <- lm(income_before_tax ~gender, data = filter(SFS_data, education == \"High school\")) #fill in the blanks\n",
    "\n",
    "rege3 <- lm(income_before_tax ~ gender, data = filter(SFS_data, education == \"Non-university post-secondary\")) #remember answers are case sensitive!\n",
    "\n",
    "rege4 <- lm(income_before_tax ~gender, data = filter(SFS_data,education == \"University\"))\n",
    "\n",
    "# store the summaries (but don't show them!  too many!)\n",
    "sum20 <- summary(rege1)\n",
    "sum30 <- summary(rege2)\n",
    "sum40 <- summary(rege3)\n",
    "sum50 <- summary(rege4)\n",
    "\n",
    "test_9() \n",
    "test_10() \n",
    "test_11() \n",
    "test_12() "
   ]
  },
  {
   "cell_type": "code",
   "execution_count": 108,
   "metadata": {
    "collapsed": false,
    "jupyter": {
     "outputs_hidden": false
    },
    "pycharm": {
     "name": "#%%\n"
    },
    "vscode": {
     "languageId": "r"
    }
   },
   "outputs": [
    {
     "data": {
      "text/plain": [
       "\n",
       "Call:\n",
       "lm(formula = income_before_tax ~ gender, data = filter(SFS_data, \n",
       "    education == \"Less than high school\"))\n",
       "\n",
       "Residuals:\n",
       "    Min      1Q  Median      3Q     Max \n",
       " -54641  -29641  -16227   10359 1276523 \n",
       "\n",
       "Coefficients:\n",
       "             Estimate Std. Error t value Pr(>|t|)    \n",
       "(Intercept)     47141       2290  20.582  < 2e-16 ***\n",
       "genderFemale   -23663       3748  -6.313 3.83e-10 ***\n",
       "---\n",
       "Signif. codes:  0 ‘***’ 0.001 ‘**’ 0.01 ‘*’ 0.05 ‘.’ 0.1 ‘ ’ 1\n",
       "\n",
       "Residual standard error: 63230 on 1214 degrees of freedom\n",
       "Multiple R-squared:  0.03178,\tAdjusted R-squared:  0.03099 \n",
       "F-statistic: 39.85 on 1 and 1214 DF,  p-value: 3.834e-10\n"
      ]
     },
     "metadata": {},
     "output_type": "display_data"
    }
   ],
   "source": [
    "summary(rege1)"
   ]
  },
  {
   "cell_type": "markdown",
   "metadata": {
    "pycharm": {
     "name": "#%% md\n"
    }
   },
   "source": [
    "The code below will tabulate a brief summary of each regression:"
   ]
  },
  {
   "cell_type": "code",
   "execution_count": 109,
   "metadata": {
    "collapsed": false,
    "jupyter": {
     "outputs_hidden": false
    },
    "pycharm": {
     "name": "#%%\n"
    },
    "vscode": {
     "languageId": "r"
    }
   },
   "outputs": [
    {
     "data": {
      "text/html": [
       "<table class=\"dataframe\">\n",
       "<caption>A tibble: 4 × 5</caption>\n",
       "<thead>\n",
       "\t<tr><th scope=col>Educ_Group</th><th scope=col>Income_Gap</th><th scope=col>Std._Error</th><th scope=col>t_Value</th><th scope=col>p_Value</th></tr>\n",
       "\t<tr><th scope=col>&lt;chr&gt;</th><th scope=col>&lt;dbl&gt;</th><th scope=col>&lt;dbl&gt;</th><th scope=col>&lt;dbl&gt;</th><th scope=col>&lt;dbl&gt;</th></tr>\n",
       "</thead>\n",
       "<tbody>\n",
       "\t<tr><td>Less than high school        </td><td>-23663.40</td><td>3748.467</td><td> -6.312821</td><td>3.834282e-10</td></tr>\n",
       "\t<tr><td>High School                  </td><td>-29719.23</td><td>3181.622</td><td> -9.340907</td><td>2.198753e-20</td></tr>\n",
       "\t<tr><td>Non-university post-secondary</td><td>-33611.69</td><td>3186.523</td><td>-10.548077</td><td>1.541777e-25</td></tr>\n",
       "\t<tr><td>University                   </td><td>-49282.00</td><td>5491.501</td><td> -8.974232</td><td>4.379491e-19</td></tr>\n",
       "</tbody>\n",
       "</table>\n"
      ],
      "text/latex": [
       "A tibble: 4 × 5\n",
       "\\begin{tabular}{lllll}\n",
       " Educ\\_Group & Income\\_Gap & Std.\\_Error & t\\_Value & p\\_Value\\\\\n",
       " <chr> & <dbl> & <dbl> & <dbl> & <dbl>\\\\\n",
       "\\hline\n",
       "\t Less than high school         & -23663.40 & 3748.467 &  -6.312821 & 3.834282e-10\\\\\n",
       "\t High School                   & -29719.23 & 3181.622 &  -9.340907 & 2.198753e-20\\\\\n",
       "\t Non-university post-secondary & -33611.69 & 3186.523 & -10.548077 & 1.541777e-25\\\\\n",
       "\t University                    & -49282.00 & 5491.501 &  -8.974232 & 4.379491e-19\\\\\n",
       "\\end{tabular}\n"
      ],
      "text/markdown": [
       "\n",
       "A tibble: 4 × 5\n",
       "\n",
       "| Educ_Group &lt;chr&gt; | Income_Gap &lt;dbl&gt; | Std._Error &lt;dbl&gt; | t_Value &lt;dbl&gt; | p_Value &lt;dbl&gt; |\n",
       "|---|---|---|---|---|\n",
       "| Less than high school         | -23663.40 | 3748.467 |  -6.312821 | 3.834282e-10 |\n",
       "| High School                   | -29719.23 | 3181.622 |  -9.340907 | 2.198753e-20 |\n",
       "| Non-university post-secondary | -33611.69 | 3186.523 | -10.548077 | 1.541777e-25 |\n",
       "| University                    | -49282.00 | 5491.501 |  -8.974232 | 4.379491e-19 |\n",
       "\n"
      ],
      "text/plain": [
       "  Educ_Group                    Income_Gap Std._Error t_Value    p_Value     \n",
       "1 Less than high school         -23663.40  3748.467    -6.312821 3.834282e-10\n",
       "2 High School                   -29719.23  3181.622    -9.340907 2.198753e-20\n",
       "3 Non-university post-secondary -33611.69  3186.523   -10.548077 1.541777e-25\n",
       "4 University                    -49282.00  5491.501    -8.974232 4.379491e-19"
      ]
     },
     "metadata": {},
     "output_type": "display_data"
    }
   ],
   "source": [
    "# just run me.  You don't need to edit this\n",
    "\n",
    "Educ_Group <- c(\"Less than high school\", \"High School\", \"Non-university post-secondary\", \"University\") #defines column 1\n",
    "Income_Gap <- c(rege1$coefficients[2], rege2$coefficients[2], rege3$coefficients[2], rege4$coefficients[2]) #defines column 2\n",
    "Std._Error <- c(sum20$coefficients[2,2], sum30$coefficients[2,2], sum40$coefficients[2,2], sum50$coefficients[2,2]) #defines column 3\n",
    "t_Value <- c(sum20$coefficients[2,3], sum30$coefficients[2,3], sum40$coefficients[2,3], sum50$coefficients[2,3]) #defines column 4\n",
    "p_Value <- c(sum20$coefficients[2,4], sum30$coefficients[2,4], sum40$coefficients[2,4], sum50$coefficients[2,4]) #defines column 5\n",
    "\n",
    "tibble(Educ_Group, Income_Gap, Std._Error, t_Value, p_Value) #it's like a table but a tibble"
   ]
  },
  {
   "cell_type": "markdown",
   "metadata": {
    "pycharm": {
     "name": "#%% md\n"
    }
   },
   "source": [
    "#### Short Answer 3\n",
    "**Prompt**: What happens to the income gap as we move across eduction groups? What might explain these changes? (hint: think back to module 1!)"
   ]
  },
  {
   "cell_type": "markdown",
   "metadata": {
    "pycharm": {
     "name": "#%% md\n"
    }
   },
   "source": [
    "<font style=\"color:red\">Answer in red here!</font>"
   ]
  },
  {
   "cell_type": "markdown",
   "metadata": {
    "pycharm": {
     "name": "#%% md\n"
    }
   },
   "source": [
    "### Activity 3\n",
    "As we observed in last week's worksheet, the income gap could differ by education level. Since there are many education categories, however, we may not want to examine this by running a regression for each education level separately. \n",
    "\n",
    "Instead, we could run a single regression and add education level as a second regressor, $E_i$: \n",
    "\n",
    "$$I_i = \\beta_0 + \\beta_1 G_i + \\beta_2 E_i + \\epsilon_i$$\n",
    "\n",
    "This is actually a **multiple regression**, which we will learn about next week - but from the point of the this lesson, the idea is that it is \"run\" in R essentially in the same way as a simple regression.  Estimate the regression model above without $E_i$, then re-estimate the model with $E_i$ added. **USE INCOME BEFORE TAX**. \n",
    "\n",
    "<em>Tested objects:</em> ``reg2A`` (regression without controls), ``reg2B`` (regression with controls)."
   ]
  },
  {
   "cell_type": "code",
   "execution_count": 111,
   "metadata": {
    "collapsed": false,
    "jupyter": {
     "outputs_hidden": false
    },
    "pycharm": {
     "name": "#%%\n"
    },
    "vscode": {
     "languageId": "r"
    }
   },
   "outputs": [
    {
     "data": {
      "text/plain": [
       "\n",
       "Call:\n",
       "lm(formula = income_before_tax ~ gender, data = SFS_data)\n",
       "\n",
       "Residuals:\n",
       "    Min      1Q  Median      3Q     Max \n",
       "-156614  -65269  -26269   34731 3190386 \n",
       "\n",
       "Coefficients:\n",
       "             Estimate Std. Error t value Pr(>|t|)    \n",
       "(Intercept)    109614       1593   68.80   <2e-16 ***\n",
       "genderFemale   -34344       2527  -13.59   <2e-16 ***\n",
       "---\n",
       "Signif. codes:  0 ‘***’ 0.001 ‘**’ 0.01 ‘*’ 0.05 ‘.’ 0.1 ‘ ’ 1\n",
       "\n",
       "Residual standard error: 124500 on 10139 degrees of freedom\n",
       "Multiple R-squared:  0.01789,\tAdjusted R-squared:  0.01779 \n",
       "F-statistic: 184.7 on 1 and 10139 DF,  p-value: < 2.2e-16\n"
      ]
     },
     "metadata": {},
     "output_type": "display_data"
    },
    {
     "data": {
      "text/plain": [
       "\n",
       "Call:\n",
       "lm(formula = income_before_tax ~ gender + education, data = SFS_data)\n",
       "\n",
       "Residuals:\n",
       "    Min      1Q  Median      3Q     Max \n",
       "-199854  -52854  -17252   29784 3147146 \n",
       "\n",
       "Coefficients:\n",
       "                                       Estimate Std. Error t value Pr(>|t|)    \n",
       "(Intercept)                               52358       3542  14.784  < 2e-16 ***\n",
       "genderFemale                             -37638       2425 -15.519  < 2e-16 ***\n",
       "educationHigh school                      31811       4240   7.503 6.78e-14 ***\n",
       "educationNon-university post-secondary    48532       4096  11.847  < 2e-16 ***\n",
       "educationUniversity                      100495       3932  25.556  < 2e-16 ***\n",
       "---\n",
       "Signif. codes:  0 ‘***’ 0.001 ‘**’ 0.01 ‘*’ 0.05 ‘.’ 0.1 ‘ ’ 1\n",
       "\n",
       "Residual standard error: 119400 on 10136 degrees of freedom\n",
       "Multiple R-squared:  0.09774,\tAdjusted R-squared:  0.09739 \n",
       "F-statistic: 274.5 on 4 and 10136 DF,  p-value: < 2.2e-16\n"
      ]
     },
     "metadata": {},
     "output_type": "display_data"
    },
    {
     "name": "stdout",
     "output_type": "stream",
     "text": [
      "\u001b[32mTest passed\u001b[39m 🥇\n",
      "[1] \"Success!\"\n",
      "\u001b[32mTest passed\u001b[39m 🥳\n",
      "[1] \"Success!\"\n"
     ]
    }
   ],
   "source": [
    "# Simple regression (just gender)\n",
    "reg2A <- lm(income_before_tax~ gender, data = SFS_data) # this one works already\n",
    "\n",
    "# Regression with controls\n",
    "reg2B <-  lm(income_before_tax ~ gender + education, data = SFS_data) # replace the ...\n",
    "\n",
    "summary(reg2A)\n",
    "summary(reg2B)\n",
    "#this will look ugly; try to look carefully at the output\n",
    "\n",
    "test_7()\n",
    "test_8() "
   ]
  },
  {
   "cell_type": "markdown",
   "metadata": {
    "pycharm": {
     "name": "#%% md\n"
    }
   },
   "source": [
    "#### Short Answer 4\n",
    "\n",
    "Prompt: Compare the estimated income gap with and without $E_i$ in the regression. What happens to the gap when we add $E_i$?"
   ]
  },
  {
   "cell_type": "markdown",
   "metadata": {
    "pycharm": {
     "name": "#%% md\n"
    }
   },
   "source": [
    "<font style=\"color:red\">Answer in red here!</font>"
   ]
  },
  {
   "cell_type": "markdown",
   "metadata": {
    "pycharm": {
     "name": "#%% md\n"
    }
   },
   "source": [
    "### Theoretical Activity 1\n",
    "When we deal with large quantitative variables, we often take the natural log of it:"
   ]
  },
  {
   "cell_type": "code",
   "execution_count": 112,
   "metadata": {
    "collapsed": false,
    "jupyter": {
     "outputs_hidden": false
    },
    "pycharm": {
     "name": "#%%\n"
    },
    "vscode": {
     "languageId": "r"
    }
   },
   "outputs": [],
   "source": [
    "W = log(SFS_data$wealth[SFS_data$wealth>0]) "
   ]
  },
  {
   "cell_type": "markdown",
   "metadata": {
    "pycharm": {
     "name": "#%% md\n"
    }
   },
   "source": [
    "You may recall that the derivative of the log of a variable is approximately equal to percentage change in the variables:\n",
    "\n",
    "$$\\frac{dln(x)}{dx} \\approx \\frac{\\Delta x}{x}$$ \n",
    "\n",
    "Thus, when we find the marginal effect of some continuous regressor $X_i$ (say, `income`):\n",
    "\n",
    "$$ln(W_i) = \\beta_0 + \\beta_1 I_i + \\epsilon_i \\implies \\frac{\\Delta W_i}{W_i} \\approx \\beta_1 \\Delta I_{i}$$\n",
    "\n",
    "This allows us to interpret the changes in a continuous variable as associated with a percentage change in wealth; for instance, if we estimate a coefficient of $0.02$ on `income_before_tax`, we say that when a family's income before tax increases by 1 CAD, the corresponding wealth increases by 2 percent on average.\n",
    "\n",
    "Notice as well we are now talking about percent changes, rather than units.\n",
    "\n",
    "Let's generate two variables that take the natural log of the wealth <em>and</em> market income from the `SFS_data` dataframe (hint: use a technique that we introduced last week). Then, estimate the effect of logarithmic market income on logarithmic wealth.\n",
    "\n",
    "<em>Tested Objects:</em> ``lnreg``"
   ]
  },
  {
   "cell_type": "code",
   "execution_count": 119,
   "metadata": {
    "collapsed": false,
    "jupyter": {
     "outputs_hidden": false
    },
    "pycharm": {
     "name": "#%%\n"
    },
    "vscode": {
     "languageId": "r"
    }
   },
   "outputs": [
    {
     "name": "stderr",
     "output_type": "stream",
     "text": [
      "Warning message in .fn(vec_data(.x), ...):\n",
      "“NaNs produced”\n",
      "Warning message in log(SFS_data$wealth):\n",
      "“NaNs produced”\n"
     ]
    }
   ],
   "source": [
    "#Generate log wage variable\n",
    "SFS_data <- SFS_data %>%\n",
    "               mutate(lnincome = log(SFS_data$income_before_tax)) %>% # what goes here?\n",
    "               mutate(lnwealth = log(SFS_data$wealth)) # what goes here?\n"
   ]
  },
  {
   "cell_type": "markdown",
   "metadata": {},
   "source": [
    "Notice warning message \"NaNs produced\". NaN means \"Not a Number\". This happens because we had negative income and negative wealth. No matter how low our incomes are, the more we work, wealth and income should increase. "
   ]
  },
  {
   "cell_type": "code",
   "execution_count": 117,
   "metadata": {
    "collapsed": false,
    "jupyter": {
     "outputs_hidden": false
    },
    "pycharm": {
     "name": "#%%\n"
    },
    "vscode": {
     "languageId": "r"
    }
   },
   "outputs": [
    {
     "data": {
      "text/plain": [
       "\n",
       "Call:\n",
       "lm(formula = lnwealth ~ lnincome, data = SFS_data_logged)\n",
       "\n",
       "Residuals:\n",
       "    Min      1Q  Median      3Q     Max \n",
       "-8.6807 -0.7359  0.3098  1.0290  5.7473 \n",
       "\n",
       "Coefficients:\n",
       "            Estimate Std. Error t value Pr(>|t|)    \n",
       "(Intercept)  6.17242    0.14599   42.28   <2e-16 ***\n",
       "lnincome     0.61532    0.01316   46.74   <2e-16 ***\n",
       "---\n",
       "Signif. codes:  0 ‘***’ 0.001 ‘**’ 0.01 ‘*’ 0.05 ‘.’ 0.1 ‘ ’ 1\n",
       "\n",
       "Residual standard error: 1.612 on 9137 degrees of freedom\n",
       "Multiple R-squared:  0.193,\tAdjusted R-squared:  0.1929 \n",
       "F-statistic:  2185 on 1 and 9137 DF,  p-value: < 2.2e-16\n"
      ]
     },
     "metadata": {},
     "output_type": "display_data"
    },
    {
     "name": "stdout",
     "output_type": "stream",
     "text": [
      "\u001b[32mTest passed\u001b[39m 🎉\n",
      "[1] \"Success!\"\n"
     ]
    }
   ],
   "source": [
    "\n",
    "\n",
    "# fix NANs\n",
    "SFS_data_logged <- SFS_data %>%\n",
    "               filter(income_before_tax>0) %>% #removes negative values\n",
    "               filter(wealth>0)  #removes negative values\n",
    "    \n",
    "# Log Regression \n",
    "lnreg <- lm(lnwealth ~ lnincome, data = SFS_data_logged) #the new and improved regression\n",
    "\n",
    "\n",
    "summary(lnreg)\n",
    "\n",
    "test_5() #Quiz7"
   ]
  },
  {
   "cell_type": "markdown",
   "metadata": {
    "pycharm": {
     "name": "#%% md\n"
    }
   },
   "source": [
    "#### Short Answer 5\n",
    "Prompt: How do we interpret each of these estimates?  (Hint: what does a 1-unit change in the explanatory variable mean here?)\n"
   ]
  },
  {
   "cell_type": "markdown",
   "metadata": {
    "pycharm": {
     "name": "#%% md\n"
    }
   },
   "source": [
    "<font style=\"color:red\"> Answer here in red</font>"
   ]
  },
  {
   "cell_type": "markdown",
   "metadata": {
    "pycharm": {
     "name": "#%% md\n"
    }
   },
   "source": [
    "### Optional: Bonus Activity 4 \n",
    "\n",
    "You have learned about a linear regression model of income; however, income really follows a Pareto distribution. For now, using a linear approximation to find the wage gap is fine. We may want to know stuff about the underlying distribution of income in male and female lead households, however. Here's the PDF of pareto distribution:\n",
    "\n",
    "$$f(x) = {\\displaystyle {\\frac {\\alpha x_{\\mathrm {m} }^{\\alpha }}{x^{\\alpha +1}}}} $$\n",
    "\n",
    "Ok, now with regression remember we said that we estimate the parameter given the data. To do this we said you could use Calcus or methods other than OLS. Here the probability of the data can be approximated by assuming independence between each $x_i$. If we do this, the probability of the data is given by:\n",
    "\n",
    "$$\\Pi_{i=1}^n f(x)$$\n",
    "\n",
    "Now we can just make a function in r and optimize over it which performs essentially the same operation as a linear regression.\n",
    "\n"
   ]
  },
  {
   "cell_type": "code",
   "execution_count": 1,
   "metadata": {
    "collapsed": false,
    "jupyter": {
     "outputs_hidden": false
    },
    "pycharm": {
     "name": "#%%\n"
    },
    "scrolled": true,
    "vscode": {
     "languageId": "r"
    }
   },
   "outputs": [
    {
     "ename": "ERROR",
     "evalue": "Error in as.ts(x): object 'SFS_data' not found\n",
     "output_type": "error",
     "traceback": [
      "Error in as.ts(x): object 'SFS_data' not found\nTraceback:\n",
      "1. filter(SFS_data, gender == \"Female\")",
      "2. as.ts(x)"
     ]
    }
   ],
   "source": [
    "x=filter(SFS_data,gender=='Female')\n",
    "x <- filter(x, is.numeric(income_before_tax))\n",
    "x <- x$income_before_tax\n",
    "\n",
    "#x[,1:4024]"
   ]
  },
  {
   "cell_type": "code",
   "execution_count": 2,
   "metadata": {
    "collapsed": false,
    "jupyter": {
     "outputs_hidden": false
    },
    "pycharm": {
     "name": "#%%\n"
    },
    "vscode": {
     "languageId": "r"
    }
   },
   "outputs": [],
   "source": [
    "calc <- function (x){\n",
    "    q=0\n",
    "for (i in x){\n",
    "    if (i >0){\n",
    "      a= log(i[1]) }\n",
    "        if (is.numeric(a)==TRUE){\n",
    "            q=q+a }\n",
    "    }\n",
    "return (q)\n",
    "}"
   ]
  },
  {
   "cell_type": "code",
   "execution_count": 3,
   "metadata": {
    "collapsed": false,
    "jupyter": {
     "outputs_hidden": false
    },
    "pycharm": {
     "name": "#%%\n"
    },
    "vscode": {
     "languageId": "r"
    }
   },
   "outputs": [
    {
     "ename": "ERROR",
     "evalue": "Error in calc(x): object 'x' not found\n",
     "output_type": "error",
     "traceback": [
      "Error in calc(x): object 'x' not found\nTraceback:\n",
      "1. calc(x)"
     ]
    }
   ],
   "source": [
    "calc(x)"
   ]
  },
  {
   "cell_type": "code",
   "execution_count": 4,
   "metadata": {
    "collapsed": false,
    "jupyter": {
     "outputs_hidden": false
    },
    "pycharm": {
     "name": "#%%\n"
    },
    "vscode": {
     "languageId": "r"
    }
   },
   "outputs": [],
   "source": [
    "ell <- function(a,q,xm,n) { # we use the log function of the pareto distrubtion instead\n",
    "    d=(n*log(a))\n",
    "    b=(-1)*(a+1)*q\n",
    "    c=a*log(xm)*n \n",
    "    return (d+b+c)\n",
    "}"
   ]
  },
  {
   "cell_type": "code",
   "execution_count": null,
   "metadata": {
    "collapsed": false,
    "jupyter": {
     "outputs_hidden": false
    },
    "pycharm": {
     "name": "#%%\n"
    },
    "vscode": {
     "languageId": "r"
    }
   },
   "outputs": [],
   "source": [
    "a = optimize(ell,c(2,50),maximum=TRUE,q=43074.1853103325,xm=40000,n=length(x))\n",
    "a\n",
    "a_women=a$maximum "
   ]
  },
  {
   "cell_type": "code",
   "execution_count": null,
   "metadata": {
    "collapsed": false,
    "jupyter": {
     "outputs_hidden": false
    },
    "pycharm": {
     "name": "#%%\n"
    },
    "vscode": {
     "languageId": "r"
    }
   },
   "outputs": [],
   "source": [
    "y=filter(SFS_data,gender=='Male')\n",
    "y <- filter(y, is.numeric(income_before_tax))\n",
    "y <- y$income_before_tax\n",
    "a_men = optimize(ell,c(2,1000),maximum=TRUE,q=calc(y),xm=65000,n=length(y))\n",
    "a_men = a_men$maximum\n",
    "a_men"
   ]
  },
  {
   "cell_type": "markdown",
   "metadata": {
    "pycharm": {
     "name": "#%% md\n"
    }
   },
   "source": [
    "The theoretical mean of the Pareto distribution is,  \n",
    "\n",
    "$$ \\frac{\\alpha x_m}{\\alpha -1} $$\n",
    "Can you calculate the expected income gap with the Pareto distribution assumption.\n"
   ]
  },
  {
   "cell_type": "code",
   "execution_count": null,
   "metadata": {
    "collapsed": false,
    "jupyter": {
     "outputs_hidden": false
    },
    "pycharm": {
     "name": "#%%\n"
    },
    "vscode": {
     "languageId": "r"
    }
   },
   "outputs": [],
   "source": [
    "xmw=40000\n",
    "xmm=65000\n",
    "income_gap =((a_women* xmw )/ (a_women-1)) - ((a_men* xmm )/ (a_men-1))\n",
    "income_gap #note we set xm oursleves (I did this by playing around with xm, and doing abit of research) see if you can get a better xm."
   ]
  }
 ],
 "metadata": {
  "kernelspec": {
   "display_name": "R",
   "language": "R",
   "name": "ir"
  },
  "language_info": {
   "codemirror_mode": "r",
   "file_extension": ".r",
   "mimetype": "text/x-r-source",
   "name": "R",
   "pygments_lexer": "r",
   "version": "4.1.1"
  }
 },
 "nbformat": 4,
 "nbformat_minor": 4
}
